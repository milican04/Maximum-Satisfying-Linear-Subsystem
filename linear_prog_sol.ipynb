{
 "cells": [
  {
   "cell_type": "markdown",
   "id": "august-major",
   "metadata": {},
   "source": [
    "# MSLS problem solution via linear programming "
   ]
  },
  {
   "cell_type": "markdown",
   "id": "listed-treat",
   "metadata": {},
   "source": [
    "Input: \n",
    "    .txt file with following shape:\n",
    "    a11 a12 a13 ... a1m b1\n",
    "    \n",
    "    a21 a22 a23 ... a2m b2\n",
    "    \n",
    "    .\n",
    "    .\n",
    "    .\n",
    "    \n",
    "    an1 an2 an3 ... anm bn\n",
    "    \n",
    "    where aij, bk are integers\n",
    "    \n",
    "Output:\n",
    "    integer number which presents solution of MSLS problem"
   ]
  },
  {
   "cell_type": "code",
   "execution_count": 7,
   "id": "unexpected-mistress",
   "metadata": {},
   "outputs": [],
   "source": [
    "import numpy as np\n",
    "import pandas as pd\n",
    "import itertools\n",
    "from scipy.optimize import linprog"
   ]
  },
  {
   "cell_type": "code",
   "execution_count": 8,
   "id": "agricultural-vault",
   "metadata": {},
   "outputs": [],
   "source": [
    "def readFile(filename):\n",
    "    if filename.endswith('.txt'):\n",
    "        with open(filename, 'r') as f:\n",
    "            A, b = [], []\n",
    "            for line in f:\n",
    "                eq = []\n",
    "                for num in line.split():\n",
    "                    eq.append(int(num))\n",
    "                A.append(eq[:-1])\n",
    "                b.append(eq[-1])\n",
    "    else:\n",
    "        raise Exception(\"We need .txt file :)\")\n",
    "    return A, b"
   ]
  },
  {
   "cell_type": "code",
   "execution_count": 9,
   "id": "funny-action",
   "metadata": {},
   "outputs": [],
   "source": [
    "def checkGroup(A, b):\n",
    "    c = np.zeros(shape=(1, len(A[0])))\n",
    "    sol = linprog(c = c, A_eq=A, b_eq= b)\n",
    "    return sol.success, sol.x"
   ]
  },
  {
   "cell_type": "code",
   "execution_count": 10,
   "id": "straight-privilege",
   "metadata": {},
   "outputs": [],
   "source": [
    "def MSLS(filepath):\n",
    "    A, b = readFile(filepath)\n",
    "    for k in range(len(A), 0, -1):\n",
    "        A_comb = list(itertools.combinations(A, k))\n",
    "        b_comb = list(itertools.combinations(b, k))\n",
    "        for i in range(len(A_comb)):\n",
    "            A_tmp, b_tmp = A_comb[i], b_comb[i]\n",
    "            success, x = checkGroup(A_tmp, b_tmp)\n",
    "            if success == True:\n",
    "                print(k)\n",
    "#                 print(k, x.round(6))\n",
    "#                 print(\"eqs:\", \"\\n\", A_tmp, b_tmp)\n",
    "                return"
   ]
  },
  {
   "cell_type": "markdown",
   "id": "undefined-charlotte",
   "metadata": {},
   "source": [
    "# Test examples"
   ]
  },
  {
   "cell_type": "code",
   "execution_count": 11,
   "id": "encouraging-boards",
   "metadata": {},
   "outputs": [
    {
     "name": "stdout",
     "output_type": "stream",
     "text": [
      "2\n"
     ]
    },
    {
     "name": "stderr",
     "output_type": "stream",
     "text": [
      "<ipython-input-9-966a3581b3e4>:3: OptimizeWarning: A_eq does not appear to be of full row rank. To improve performance, check the problem formulation for redundant equality constraints.\n",
      "  sol = linprog(c = c, A_eq=A, b_eq= b)\n"
     ]
    }
   ],
   "source": [
    "MSLS('tests/simple_test1.txt')"
   ]
  },
  {
   "cell_type": "code",
   "execution_count": null,
   "id": "square-gothic",
   "metadata": {},
   "outputs": [],
   "source": []
  }
 ],
 "metadata": {
  "kernelspec": {
   "display_name": "Python 3",
   "language": "python",
   "name": "python3"
  },
  "language_info": {
   "codemirror_mode": {
    "name": "ipython",
    "version": 3
   },
   "file_extension": ".py",
   "mimetype": "text/x-python",
   "name": "python",
   "nbconvert_exporter": "python",
   "pygments_lexer": "ipython3",
   "version": "3.8.10"
  }
 },
 "nbformat": 4,
 "nbformat_minor": 5
}

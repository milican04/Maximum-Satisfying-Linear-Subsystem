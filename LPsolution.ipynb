{
 "cells": [
  {
   "cell_type": "markdown",
   "id": "august-major",
   "metadata": {},
   "source": [
    "# MSLS problem solution via linear programming "
   ]
  },
  {
   "cell_type": "markdown",
   "id": "listed-treat",
   "metadata": {},
   "source": [
    "Input: \n",
    "    .txt file with following shape:\n",
    "    \n",
    "    a11 a12 a13 ... a1m b1\n",
    "    \n",
    "    a21 a22 a23 ... a2m b2\n",
    "    \n",
    "    .\n",
    "    .\n",
    "    .\n",
    "    \n",
    "    an1 an2 an3 ... anm bn\n",
    "    \n",
    "    where aij, bk are integers\n",
    "    \n",
    "Output:\n",
    "    vector of m rational numbers which presents solution of MSLS problem"
   ]
  },
  {
   "cell_type": "code",
   "execution_count": 10,
   "id": "unexpected-mistress",
   "metadata": {},
   "outputs": [],
   "source": [
    "import numpy as np\n",
    "import pandas as pd\n",
    "import itertools\n",
    "from scipy.optimize import linprog"
   ]
  },
  {
   "cell_type": "code",
   "execution_count": 11,
   "id": "agricultural-vault",
   "metadata": {},
   "outputs": [],
   "source": [
    "def readFile(filename):\n",
    "    if filename.endswith('.txt'):\n",
    "        with open(filename, 'r') as f:\n",
    "            mat, A, b = [], [], []\n",
    "            for line in f:\n",
    "                eq = []\n",
    "                for num in line.split():\n",
    "                    eq.append(int(num))\n",
    "                A.append(eq[:-1])\n",
    "                b.append(eq[-1])\n",
    "                mat.append(eq)\n",
    "    else:\n",
    "        raise Exception(\"We need .txt file :)\")\n",
    "    return mat, A, b"
   ]
  },
  {
   "cell_type": "code",
   "execution_count": 12,
   "id": "funny-action",
   "metadata": {},
   "outputs": [],
   "source": [
    "def checkGroup(A, b):\n",
    "    c = np.zeros(shape=(1, len(A[0])))\n",
    "    sol = linprog(c = c, A_eq=A, b_eq= b)\n",
    "    return sol.success #, sol.x"
   ]
  },
  {
   "cell_type": "code",
   "execution_count": 13,
   "id": "stock-peoples",
   "metadata": {},
   "outputs": [],
   "source": [
    "def comb_with_excludes(lst, n, excludes, i=0, taken=[]):\n",
    "    if n == 0:\n",
    "        yield taken  # no more needed\n",
    "    elif i <= len(lst) - n:\n",
    "        t2 = taken + [lst[i],]  # add current element\n",
    "        if not any(e.issubset(t2) for e in excludes):\n",
    "            yield from comb_with_excludes(lst, n-1, excludes, i+1, t2)\n",
    "        if i < len(lst) - n:  # skip current element\n",
    "            yield from comb_with_excludes(lst, n, excludes, i+1, taken)"
   ]
  },
  {
   "cell_type": "code",
   "execution_count": 14,
   "id": "temporal-publication",
   "metadata": {},
   "outputs": [],
   "source": [
    "# comb_with_excludes([1,2,3,4, 5], 3, [{1, 2}, {2, 3}])"
   ]
  },
  {
   "cell_type": "markdown",
   "id": "thousand-meeting",
   "metadata": {},
   "source": [
    "Algorithm with partitioning"
   ]
  },
  {
   "cell_type": "code",
   "execution_count": 17,
   "id": "nutritional-acrylic",
   "metadata": {},
   "outputs": [],
   "source": [
    "def MSLS2(filepath):\n",
    "    mat, _, _ = readFile(filepath)\n",
    "    eqNums = [i for i in range(len(mat))]\n",
    "    \n",
    "    excluded = []\n",
    "    \n",
    "    maxSatisfied = 1\n",
    "    resultX = linprog(c = [0 for _ in range(len(mat[0]) - 1)], \n",
    "                      A_eq=[mat[0][:-1]], \n",
    "                      b_eq= [mat[0][-1]]\n",
    "                     )\n",
    "    maxSatisfied = 0\n",
    "    finalComb = []\n",
    "    for k in range(2, len(mat)+1):\n",
    "#         print(\"excluded: \", excluded)\n",
    "        print(\"Checking combination with length : \", k, \" ...\")\n",
    "        eq_comb = list(comb_with_excludes([e for e in range(len(mat))], k, excluded))\n",
    "        \n",
    "        for comb in eq_comb:\n",
    "#             print(\"Checking combination : \", comb, \" ... \")\n",
    "            system = np.array([mat[e] for e in comb])\n",
    "            \n",
    "            A_tmp, b_tmp = system[0:, :-1], system[0:, -1]\n",
    "            \n",
    "            success = checkGroup(A_tmp, b_tmp)\n",
    "            \n",
    "            if success == True:\n",
    "                maxSatisfied = k\n",
    "                finalComb = comb\n",
    "            else:\n",
    "                excluded.append(set(comb))\n",
    "                \n",
    "    print(\"Number of satisfied: \", maxSatisfied)\n",
    "    print(\"Satisfied eqs are:\")\n",
    "    for i in finalComb:\n",
    "        print(\"[\", i, \"] : \", mat[i])\n",
    "    return"
   ]
  },
  {
   "cell_type": "code",
   "execution_count": null,
   "id": "logical-orbit",
   "metadata": {},
   "outputs": [],
   "source": []
  },
  {
   "cell_type": "markdown",
   "id": "undefined-charlotte",
   "metadata": {},
   "source": [
    "# Test examples"
   ]
  },
  {
   "cell_type": "code",
   "execution_count": 20,
   "id": "documentary-thesis",
   "metadata": {},
   "outputs": [
    {
     "name": "stdout",
     "output_type": "stream",
     "text": [
      "Checking combination with length :  2  ...\n"
     ]
    },
    {
     "name": "stderr",
     "output_type": "stream",
     "text": [
      "<ipython-input-12-09a9dafc3225>:3: OptimizeWarning: A_eq does not appear to be of full row rank. To improve performance, check the problem formulation for redundant equality constraints.\n",
      "  sol = linprog(c = c, A_eq=A, b_eq= b)\n"
     ]
    },
    {
     "name": "stdout",
     "output_type": "stream",
     "text": [
      "Checking combination with length :  3  ...\n",
      "Checking combination with length :  4  ...\n",
      "Checking combination with length :  5  ...\n",
      "Checking combination with length :  6  ...\n",
      "Checking combination with length :  7  ...\n",
      "Checking combination with length :  8  ...\n",
      "Checking combination with length :  9  ...\n",
      "Checking combination with length :  10  ...\n",
      "Checking combination with length :  11  ...\n",
      "Checking combination with length :  12  ...\n",
      "Checking combination with length :  13  ...\n",
      "Checking combination with length :  14  ...\n",
      "Checking combination with length :  15  ...\n",
      "Checking combination with length :  16  ...\n",
      "Checking combination with length :  17  ...\n",
      "Number of satisfied:  16\n",
      "Satisfied eqs are:\n",
      "[ 0 ] :  [-3, -888, 44, 0]\n",
      "[ 1 ] :  [22, 22, 0, 5]\n",
      "[ 3 ] :  [-3, -888, 44, 0]\n",
      "[ 4 ] :  [22, 22, 0, 5]\n",
      "[ 5 ] :  [-3, -888, 44, 0]\n",
      "[ 6 ] :  [22, 22, 0, 5]\n",
      "[ 7 ] :  [-3, -888, 44, 0]\n",
      "[ 8 ] :  [22, 22, 0, 5]\n",
      "[ 9 ] :  [-3, -888, 44, 0]\n",
      "[ 10 ] :  [22, 22, 0, 5]\n",
      "[ 11 ] :  [-3, -888, 44, 0]\n",
      "[ 12 ] :  [22, 22, 0, 5]\n",
      "[ 13 ] :  [-3, -888, 44, 0]\n",
      "[ 14 ] :  [22, 22, 0, 5]\n",
      "[ 15 ] :  [-3, -888, 44, 0]\n",
      "[ 16 ] :  [22, 22, 0, 5]\n"
     ]
    }
   ],
   "source": [
    "MSLS2('tests/simple_test0.txt')"
   ]
  },
  {
   "cell_type": "code",
   "execution_count": 19,
   "id": "encouraging-boards",
   "metadata": {
    "scrolled": false
   },
   "outputs": [
    {
     "name": "stdout",
     "output_type": "stream",
     "text": [
      "Checking combination with length :  2  ...\n",
      "Checking combination with length :  3  ...\n",
      "Checking combination with length :  4  ...\n",
      "Number of satisfied:  2\n",
      "Satisfied eqs are:\n",
      "[ 1 ] :  [-3, -888, 44, 0]\n",
      "[ 2 ] :  [22, 22, 0, 5]\n"
     ]
    },
    {
     "name": "stderr",
     "output_type": "stream",
     "text": [
      "<ipython-input-12-09a9dafc3225>:3: OptimizeWarning: A_eq does not appear to be of full row rank. To improve performance, check the problem formulation for redundant equality constraints.\n",
      "  sol = linprog(c = c, A_eq=A, b_eq= b)\n"
     ]
    }
   ],
   "source": [
    "MSLS2('tests/simple_test1.txt')"
   ]
  },
  {
   "cell_type": "code",
   "execution_count": 22,
   "id": "exotic-beauty",
   "metadata": {},
   "outputs": [
    {
     "name": "stdout",
     "output_type": "stream",
     "text": [
      "excluded:  []\n",
      "Checking combination :  [0, 1]  ... \n",
      "Checking combination :  [0, 2]  ... \n",
      "Checking combination :  [0, 3]  ... \n",
      "Checking combination :  [0, 4]  ... \n",
      "Checking combination :  [0, 5]  ... \n",
      "Checking combination :  [0, 6]  ... \n",
      "Checking combination :  [1, 2]  ... \n",
      "Checking combination :  [1, 3]  ... \n",
      "Checking combination :  [1, 4]  ... \n",
      "Checking combination :  [1, 5]  ... \n",
      "Checking combination :  [1, 6]  ... \n",
      "Checking combination :  [2, 3]  ... \n",
      "Checking combination :  [2, 4]  ... \n",
      "Checking combination :  [2, 5]  ... \n",
      "Checking combination :  [2, 6]  ... \n",
      "Checking combination :  [3, 4]  ... \n",
      "Checking combination :  [3, 5]  ... \n",
      "Checking combination :  [3, 6]  ... \n",
      "Checking combination :  [4, 5]  ... \n",
      "Checking combination :  [4, 6]  ... \n",
      "Checking combination :  [5, 6]  ... \n",
      "excluded:  [{0, 3}, {1, 3}, {2, 3}, {3, 4}, {3, 5}, {3, 6}]\n",
      "Checking combination :  [0, 1, 2]  ... \n",
      "Checking combination :  [0, 1, 4]  ... \n",
      "Checking combination :  [0, 1, 5]  ... \n",
      "Checking combination :  [0, 1, 6]  ... \n",
      "Checking combination :  [0, 2, 4]  ... \n",
      "Checking combination :  [0, 2, 5]  ... \n",
      "Checking combination :  [0, 2, 6]  ... \n",
      "Checking combination :  [0, 4, 5]  ... \n",
      "Checking combination :  [0, 4, 6]  ... \n",
      "Checking combination :  [0, 5, 6]  ... \n",
      "Checking combination :  [1, 2, 4]  ... \n",
      "Checking combination :  [1, 2, 5]  ... \n",
      "Checking combination :  [1, 2, 6]  ... \n",
      "Checking combination :  [1, 4, 5]  ... \n",
      "Checking combination :  [1, 4, 6]  ... \n",
      "Checking combination :  [1, 5, 6]  ... \n",
      "Checking combination :  [2, 4, 5]  ... \n",
      "Checking combination :  [2, 4, 6]  ... \n",
      "Checking combination :  [2, 5, 6]  ... \n",
      "Checking combination :  [4, 5, 6]  ... \n",
      "excluded:  [{0, 3}, {1, 3}, {2, 3}, {3, 4}, {3, 5}, {3, 6}, {0, 1, 2}, {0, 1, 4}, {0, 1, 5}, {0, 1, 6}]\n",
      "Checking combination :  [0, 2, 4, 5]  ... \n",
      "Checking combination :  [0, 2, 4, 6]  ... \n",
      "Checking combination :  [0, 2, 5, 6]  ... \n",
      "Checking combination :  [0, 4, 5, 6]  ... \n",
      "Checking combination :  [1, 2, 4, 5]  ... \n",
      "Checking combination :  [1, 2, 4, 6]  ... \n",
      "Checking combination :  [1, 2, 5, 6]  ... \n",
      "Checking combination :  [1, 4, 5, 6]  ... \n",
      "Checking combination :  [2, 4, 5, 6]  ... \n",
      "excluded:  [{0, 3}, {1, 3}, {2, 3}, {3, 4}, {3, 5}, {3, 6}, {0, 1, 2}, {0, 1, 4}, {0, 1, 5}, {0, 1, 6}]\n",
      "Checking combination :  [0, 2, 4, 5, 6]  ... \n",
      "Checking combination :  [1, 2, 4, 5, 6]  ... \n",
      "excluded:  [{0, 3}, {1, 3}, {2, 3}, {3, 4}, {3, 5}, {3, 6}, {0, 1, 2}, {0, 1, 4}, {0, 1, 5}, {0, 1, 6}]\n",
      "excluded:  [{0, 3}, {1, 3}, {2, 3}, {3, 4}, {3, 5}, {3, 6}, {0, 1, 2}, {0, 1, 4}, {0, 1, 5}, {0, 1, 6}]\n",
      "Number of satisfied:  5\n",
      "Satisfied eqs are:\n",
      "[ 1 ] :  [-3, -888, 44, 0]\n",
      "[ 2 ] :  [22, 22, 0, 5]\n",
      "[ 4 ] :  [22, 22, 0, 5]\n",
      "[ 5 ] :  [22, 22, 0, 5]\n",
      "[ 6 ] :  [22, 22, 0, 5]\n"
     ]
    },
    {
     "name": "stderr",
     "output_type": "stream",
     "text": [
      "<ipython-input-4-09a9dafc3225>:3: OptimizeWarning: A_eq does not appear to be of full row rank. To improve performance, check the problem formulation for redundant equality constraints.\n",
      "  sol = linprog(c = c, A_eq=A, b_eq= b)\n"
     ]
    }
   ],
   "source": [
    "MSLS2('tests/simple_test2.txt')"
   ]
  },
  {
   "cell_type": "code",
   "execution_count": 19,
   "id": "competitive-anthony",
   "metadata": {},
   "outputs": [
    {
     "name": "stdout",
     "output_type": "stream",
     "text": [
      "excluded:  []\n",
      "Checking combination :  [0, 1]  ... \n",
      "Checking combination :  [0, 2]  ... \n",
      "Checking combination :  [0, 3]  ... \n",
      "Checking combination :  [0, 4]  ... \n",
      "Checking combination :  [1, 2]  ... \n",
      "Checking combination :  [1, 3]  ... \n",
      "Checking combination :  [1, 4]  ... \n",
      "Checking combination :  [2, 3]  ... \n",
      "Checking combination :  [2, 4]  ... \n",
      "Checking combination :  [3, 4]  ... \n",
      "excluded:  []\n",
      "Checking combination :  [0, 1, 2]  ... \n",
      "Checking combination :  [0, 1, 3]  ... \n",
      "Checking combination :  [0, 1, 4]  ... \n",
      "Checking combination :  [0, 2, 3]  ... \n",
      "Checking combination :  [0, 2, 4]  ... \n",
      "Checking combination :  [0, 3, 4]  ... \n",
      "Checking combination :  [1, 2, 3]  ... \n",
      "Checking combination :  [1, 2, 4]  ... \n",
      "Checking combination :  [1, 3, 4]  ... \n",
      "Checking combination :  [2, 3, 4]  ... \n",
      "excluded:  []\n",
      "Checking combination :  [0, 1, 2, 3]  ... \n",
      "Checking combination :  [0, 1, 2, 4]  ... \n",
      "Checking combination :  [0, 1, 3, 4]  ... \n",
      "Checking combination :  [0, 2, 3, 4]  ... \n",
      "Checking combination :  [1, 2, 3, 4]  ... \n",
      "excluded:  []\n",
      "Checking combination :  [0, 1, 2, 3, 4]  ... \n",
      "Number of satisfied:  5\n",
      "Satisfied eqs are:\n",
      "[ 0 ] :  [2605, -4290, -4308, 1143, -685, -1817, -3233, -3345, 4760, -334, -735, -2001, 1282, -3395, -2411, 665, -215, -823, 288, -3141, 3319]\n",
      "[ 1 ] :  [4525, -4161, -3311, -2535, 3984, -1888, -3468, 1150, 3735, 1643, -2305, 4920, 118, 2142, 1258, 2252, -2402, -3746, 3773, -3539, -4188]\n",
      "[ 2 ] :  [-3357, 4721, -3724, 1567, -3258, 3993, 161, -3400, 3306, 4536, 7, 21, -351, -4586, -2912, -2163, -1144, -2983, -961, 331, 1463]\n",
      "[ 3 ] :  [-4248, 1044, 3853, 4774, 1688, -2971, 3366, -770, -3108, 1728, 370, 3521, -306, -3120, -4310, -2844, 2850, 272, 741, 1880, 4819]\n",
      "[ 4 ] :  [-3167, 1346, 798, 2221, 4472, -2880, -3818, 1014, -232, -3319, 2775, -4974, -2821, -4662, 1492, -4679, 1512, 3118, 2881, -1688, -4846]\n"
     ]
    }
   ],
   "source": [
    "MSLS2('tests/5x20.txt')"
   ]
  },
  {
   "cell_type": "code",
   "execution_count": 16,
   "id": "square-gothic",
   "metadata": {},
   "outputs": [
    {
     "name": "stdout",
     "output_type": "stream",
     "text": [
      "excluded:  []\n",
      "excluded:  []\n",
      "excluded:  []\n",
      "excluded:  []\n",
      "excluded:  []\n",
      "excluded:  []\n",
      "excluded:  []\n",
      "Number of satisfied:  8\n",
      "Satisfied eqs are:\n",
      "[ 0 ] :  [2552, 4595, -4682, -2741, -1026, 2496, -4992, 3044, -681, -2450, -3368, 1886, -3758, 2661, 217, 2001, 567, -1897, 1700, -3145, 1605, -3687, -655, -4334, 1690, 3809, 4473, -265, -3296, -3183, 1841]\n",
      "[ 1 ] :  [3388, -3116, 1615, -4866, -4717, -66, 1694, 3564, 1835, 4309, -2760, 3617, -2943, 1096, 3145, 2874, 3678, 4289, -4152, -3814, 3529, 4228, -4841, -1260, 1303, -4314, -3217, -3521, 117, 2312, 553]\n",
      "[ 2 ] :  [3343, 3330, -797, 4839, 1624, -2597, -2902, -53, -2162, 3276, 2311, 673, 2930, 4723, 272, -389, 1734, -3036, 4196, 1423, -4963, 549, 1534, -3714, 1613, -2655, -3896, 1082, -75, 715, -2067]\n",
      "[ 3 ] :  [4700, 273, 4214, -2858, 3282, 3195, -4929, -1633, -3026, 1204, 848, -4078, 131, 3891, -1083, 2872, 3881, 2246, 4147, -1159, 1523, 498, -2952, -3386, 3704, -3470, 3190, 3455, -4602, -692, -3503]\n",
      "[ 4 ] :  [-1314, -1654, 3875, -61, -4770, 4125, 4318, -294, 4005, -2471, 1606, 1049, 4875, -2592, -819, 4394, -4237, -3841, 1401, 428, -2424, 2739, 4861, -165, 527, 505, 3870, 3180, -4687, -2937, -3886]\n",
      "[ 5 ] :  [1331, -1952, 3464, 742, 4402, -4610, -1177, -4496, -2495, 3366, -1061, 2768, -4830, -1407, -2703, 2290, -4613, -4811, -664, -2469, 936, 1996, 831, -1734, 4160, 3832, 4668, -3240, -920, -90, 3923]\n",
      "[ 6 ] :  [-4690, 4181, 4422, -1408, -2245, 3305, 518, 4050, 81, 4902, 2562, -2687, 1900, -3689, -75, -524, -750, -3005, -2580, -1166, 348, -4567, 2357, 2942, 1063, -3341, -3629, 2259, 4042, -4747, -4578]\n",
      "[ 7 ] :  [4937, -4370, 3228, -1689, -1837, -2536, -4514, 4508, 2726, -823, -264, 1408, -713, -4131, -4355, 3344, 880, 3111, -338, -1268, 3253, 2659, -655, -4557, 2948, 196, -2671, 721, 4136, 810, -3474]\n"
     ]
    }
   ],
   "source": [
    "MSLS2('tests/8x30.txt')"
   ]
  },
  {
   "cell_type": "code",
   "execution_count": 9,
   "id": "eleven-hebrew",
   "metadata": {},
   "outputs": [
    {
     "name": "stdout",
     "output_type": "stream",
     "text": [
      "Checking combination with length :  2  ...\n",
      "Checking combination with length :  3  ...\n",
      "Checking combination with length :  4  ...\n",
      "Checking combination with length :  5  ...\n"
     ]
    },
    {
     "name": "stderr",
     "output_type": "stream",
     "text": [
      "<ipython-input-5-09a9dafc3225>:3: OptimizeWarning: Solving system with option 'cholesky':True failed. It is normal for this to happen occasionally, especially as the solution is approached. However, if you see this frequently, consider setting option 'cholesky' to False.\n",
      "  sol = linprog(c = c, A_eq=A, b_eq= b)\n",
      "<ipython-input-5-09a9dafc3225>:3: OptimizeWarning: Solving system with option 'sym_pos':True failed. It is normal for this to happen occasionally, especially as the solution is approached. However, if you see this frequently, consider setting option 'sym_pos' to False.\n",
      "  sol = linprog(c = c, A_eq=A, b_eq= b)\n",
      "/home/milica/.local/lib/python3.8/site-packages/scipy/optimize/_linprog_ip.py:117: LinAlgWarning: Ill-conditioned matrix (rcond=1.71894e-17): result may not be accurate.\n",
      "  return sp.linalg.solve(M, r, sym_pos=sym_pos)\n"
     ]
    },
    {
     "name": "stdout",
     "output_type": "stream",
     "text": [
      "Checking combination with length :  6  ...\n"
     ]
    },
    {
     "name": "stderr",
     "output_type": "stream",
     "text": [
      "<ipython-input-5-09a9dafc3225>:3: OptimizeWarning: A_eq does not appear to be of full row rank. To improve performance, check the problem formulation for redundant equality constraints.\n",
      "  sol = linprog(c = c, A_eq=A, b_eq= b)\n"
     ]
    },
    {
     "name": "stdout",
     "output_type": "stream",
     "text": [
      "Checking combination with length :  7  ...\n",
      "Checking combination with length :  8  ...\n",
      "Checking combination with length :  9  ...\n",
      "Checking combination with length :  10  ...\n",
      "Checking combination with length :  11  ...\n",
      "Checking combination with length :  12  ...\n",
      "Checking combination with length :  13  ...\n",
      "Checking combination with length :  14  ...\n",
      "Checking combination with length :  15  ...\n",
      "Checking combination with length :  16  ...\n",
      "Checking combination with length :  17  ...\n",
      "Checking combination with length :  18  ...\n",
      "Checking combination with length :  19  ...\n",
      "Checking combination with length :  20  ...\n",
      "Checking combination with length :  21  ...\n",
      "Checking combination with length :  22  ...\n",
      "Checking combination with length :  23  ...\n",
      "Checking combination with length :  24  ...\n",
      "Checking combination with length :  25  ...\n",
      "Number of satisfied:  5\n",
      "Satisfied eqs are:\n",
      "[ 15 ] :  [23, 2116, -1810, 4146, -4708, -4399]\n",
      "[ 19 ] :  [-2013, -1124, 2038, -2970, -578, -1746]\n",
      "[ 20 ] :  [-2003, 3416, 1023, -58, -4472, -649]\n",
      "[ 21 ] :  [-4735, 1770, 1130, 2602, 3254, -4768]\n",
      "[ 22 ] :  [-4514, -3830, 3406, -2391, -2788, -3972]\n"
     ]
    }
   ],
   "source": [
    "MSLS2('tests/25x5.txt')"
   ]
  },
  {
   "cell_type": "code",
   "execution_count": null,
   "id": "british-charter",
   "metadata": {},
   "outputs": [],
   "source": []
  },
  {
   "cell_type": "code",
   "execution_count": null,
   "id": "played-company",
   "metadata": {},
   "outputs": [],
   "source": []
  },
  {
   "cell_type": "code",
   "execution_count": null,
   "id": "purple-bench",
   "metadata": {},
   "outputs": [],
   "source": []
  },
  {
   "cell_type": "code",
   "execution_count": null,
   "id": "temporal-circumstances",
   "metadata": {},
   "outputs": [],
   "source": []
  },
  {
   "cell_type": "code",
   "execution_count": null,
   "id": "handy-insert",
   "metadata": {},
   "outputs": [],
   "source": [
    "# import numpy as np\n",
    "\n",
    "# A = np.array([[2, 3],\n",
    "#               [4, 6]])\n",
    "\n",
    "# b = np.array([5, 8])\n",
    "\n",
    "# # Augment the coefficient matrix A with the constant vector b\n",
    "# augmented_matrix = np.column_stack((A, b))\n",
    "\n",
    "# # Perform Gaussian elimination to convert the augmented matrix to row-echelon form\n",
    "# rref = np.linalg.matrix_rank(augmented_matrix)\n",
    "\n",
    "# # Check consistency\n",
    "# if rref == np.linalg.matrix_rank(A):\n",
    "#     print(\"The system is consistent and has at least one solution.\")\n",
    "# else:\n",
    "#     print(\"The system is inconsistent and has no solution.\")"
   ]
  }
 ],
 "metadata": {
  "kernelspec": {
   "display_name": "Python 3",
   "language": "python",
   "name": "python3"
  },
  "language_info": {
   "codemirror_mode": {
    "name": "ipython",
    "version": 3
   },
   "file_extension": ".py",
   "mimetype": "text/x-python",
   "name": "python",
   "nbconvert_exporter": "python",
   "pygments_lexer": "ipython3",
   "version": "3.8.10"
  }
 },
 "nbformat": 4,
 "nbformat_minor": 5
}

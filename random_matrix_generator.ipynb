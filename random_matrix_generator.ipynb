{
 "cells": [
  {
   "cell_type": "markdown",
   "id": "accredited-cambodia",
   "metadata": {},
   "source": [
    "# Random matrix generator "
   ]
  },
  {
   "cell_type": "markdown",
   "id": "timely-convergence",
   "metadata": {},
   "source": [
    "Input: integer numbers n and m, string fileName\n",
    "\n",
    "Output: matrix mx(n+1) of random integer numbers written in file with name fileName (in folder tests)"
   ]
  },
  {
   "cell_type": "code",
   "execution_count": 3,
   "id": "indonesian-spirituality",
   "metadata": {},
   "outputs": [],
   "source": [
    "import numpy as np\n",
    "import random"
   ]
  },
  {
   "cell_type": "code",
   "execution_count": 4,
   "id": "optimum-controversy",
   "metadata": {},
   "outputs": [],
   "source": [
    "def generate(m, n):\n",
    "    return np.random.randint(low=-5000, high=5000, size=(m, n+1))"
   ]
  },
  {
   "cell_type": "code",
   "execution_count": 62,
   "id": "established-spyware",
   "metadata": {},
   "outputs": [],
   "source": [
    "def saveToFile(matrix, path):\n",
    "    mat = np.matrix(matrix)\n",
    "    print(\"Saving followinf matrix into \" + path + \"...\")\n",
    "    print(mat)\n",
    "    with open(path+\".txt\",'wb') as f:\n",
    "        for line in mat:\n",
    "            np.savetxt(f, line, fmt='%s')"
   ]
  },
  {
   "cell_type": "code",
   "execution_count": 64,
   "id": "sticky-church",
   "metadata": {},
   "outputs": [
    {
     "name": "stdout",
     "output_type": "stream",
     "text": [
      "Enter m\n",
      "50\n",
      "Enter n\n",
      "50\n"
     ]
    }
   ],
   "source": [
    "print(\"Enter m\")\n",
    "m = int(input())\n",
    "\n",
    "print(\"Enter n\")\n",
    "n = int(input()) "
   ]
  },
  {
   "cell_type": "code",
   "execution_count": 65,
   "id": "spatial-texas",
   "metadata": {},
   "outputs": [],
   "source": [
    "matrix = generate(m, n)"
   ]
  },
  {
   "cell_type": "code",
   "execution_count": 66,
   "id": "after-comedy",
   "metadata": {},
   "outputs": [
    {
     "name": "stdout",
     "output_type": "stream",
     "text": [
      "Enter file name\n",
      "test1\n"
     ]
    }
   ],
   "source": [
    "print(\"Enter file name\")\n",
    "fileName = input()"
   ]
  },
  {
   "cell_type": "code",
   "execution_count": 67,
   "id": "acting-amino",
   "metadata": {},
   "outputs": [
    {
     "name": "stdout",
     "output_type": "stream",
     "text": [
      "Saving followinf matrix into tests/test1...\n",
      "[[-3938   397  4520 ... -3035  4190  2470]\n",
      " [ 3033  -271  1126 ... -2253  2542  1263]\n",
      " [ -765 -4520  3928 ... -3620 -2039   814]\n",
      " ...\n",
      " [ 4206  3568 -3220 ... -1854 -4991 -2996]\n",
      " [-2186  3381 -4049 ...  2477  4468 -4189]\n",
      " [-1758 -3441  4207 ... -1391   208   157]]\n"
     ]
    }
   ],
   "source": [
    "saveToFile(matrix, \"tests/\" + fileName)"
   ]
  },
  {
   "cell_type": "code",
   "execution_count": null,
   "id": "spatial-patch",
   "metadata": {},
   "outputs": [],
   "source": []
  }
 ],
 "metadata": {
  "kernelspec": {
   "display_name": "Python 3",
   "language": "python",
   "name": "python3"
  },
  "language_info": {
   "codemirror_mode": {
    "name": "ipython",
    "version": 3
   },
   "file_extension": ".py",
   "mimetype": "text/x-python",
   "name": "python",
   "nbconvert_exporter": "python",
   "pygments_lexer": "ipython3",
   "version": "3.8.10"
  }
 },
 "nbformat": 4,
 "nbformat_minor": 5
}

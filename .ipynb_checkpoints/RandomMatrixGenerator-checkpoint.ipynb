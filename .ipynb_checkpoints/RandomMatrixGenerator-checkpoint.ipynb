{
 "cells": [
  {
   "cell_type": "markdown",
   "id": "accredited-cambodia",
   "metadata": {},
   "source": [
    "# Random matrix generator "
   ]
  },
  {
   "cell_type": "markdown",
   "id": "timely-convergence",
   "metadata": {},
   "source": [
    "Input: integer numbers n and m, string fileName\n",
    "\n",
    "Output: matrix mx(n+1) of random integer numbers written in file with name fileName (in folder tests)"
   ]
  },
  {
   "cell_type": "code",
   "execution_count": 8,
   "id": "indonesian-spirituality",
   "metadata": {},
   "outputs": [],
   "source": [
    "import numpy as np\n",
    "import random"
   ]
  },
  {
   "cell_type": "code",
   "execution_count": 9,
   "id": "optimum-controversy",
   "metadata": {},
   "outputs": [],
   "source": [
    "def generate(m, n):\n",
    "    return np.random.randint(low=-5000, high=5000, size=(m, n+1))"
   ]
  },
  {
   "cell_type": "code",
   "execution_count": 10,
   "id": "established-spyware",
   "metadata": {},
   "outputs": [],
   "source": [
    "def saveToFile(matrix, path):\n",
    "    mat = np.matrix(matrix)\n",
    "    print(\"Saving following matrix into: \" + path + \".txt...\\n\")\n",
    "    print(mat)\n",
    "    with open(path+\".txt\",'wb') as f:\n",
    "        for line in mat:\n",
    "            np.savetxt(f, line, fmt='%s')"
   ]
  },
  {
   "cell_type": "code",
   "execution_count": 11,
   "id": "sticky-church",
   "metadata": {},
   "outputs": [
    {
     "name": "stdout",
     "output_type": "stream",
     "text": [
      "Enter m\n",
      "25\n",
      "Enter n\n",
      "5\n"
     ]
    }
   ],
   "source": [
    "print(\"Enter m\")\n",
    "m = int(input())\n",
    "\n",
    "print(\"Enter n\")\n",
    "n = int(input()) "
   ]
  },
  {
   "cell_type": "code",
   "execution_count": 12,
   "id": "spatial-texas",
   "metadata": {},
   "outputs": [],
   "source": [
    "matrix = generate(m, n)"
   ]
  },
  {
   "cell_type": "code",
   "execution_count": 13,
   "id": "after-comedy",
   "metadata": {},
   "outputs": [
    {
     "name": "stdout",
     "output_type": "stream",
     "text": [
      "Enter file name\n",
      "25x5\n"
     ]
    }
   ],
   "source": [
    "print(\"Enter file name\")\n",
    "fileName = input()"
   ]
  },
  {
   "cell_type": "code",
   "execution_count": 14,
   "id": "acting-amino",
   "metadata": {},
   "outputs": [
    {
     "name": "stdout",
     "output_type": "stream",
     "text": [
      "Saving following matrix into: tests/25x5.txt...\n",
      "\n",
      "[[  835 -2766 -4400  4206 -2219   889]\n",
      " [-3333 -2666 -3397 -1121  2103 -2393]\n",
      " [ 3677   953 -3069  2380  3776 -3424]\n",
      " [ 2807  3276 -4717  -250  2264 -4699]\n",
      " [-2521 -4660  4934  2161  3581 -4897]\n",
      " [-1322 -1849  -793  -350   453  -321]\n",
      " [ 2053   922  -510 -2198  2650 -2156]\n",
      " [-3757  4138 -4679  4100 -3268 -1892]\n",
      " [-3451 -2387   -23  1299 -4998 -1335]\n",
      " [ 4264 -2592 -3322   769 -3649  -649]\n",
      " [-3012  3931  3779  2793  4335  3997]\n",
      " [ 3002 -1589  4353  3432  1884  2392]\n",
      " [-4011 -3903  1293  2797  1304   893]\n",
      " [-3177  3100 -1601 -3692  3804 -2885]\n",
      " [ 1536  4034 -1680  -741 -2481 -2743]\n",
      " [   23  2116 -1810  4146 -4708 -4399]\n",
      " [ 2511  2377 -1044  3666  3802   353]\n",
      " [-4158   218  1115  -131  1004 -2898]\n",
      " [ 2191  -956  2789 -4828  1324   539]\n",
      " [-2013 -1124  2038 -2970  -578 -1746]\n",
      " [-2003  3416  1023   -58 -4472  -649]\n",
      " [-4735  1770  1130  2602  3254 -4768]\n",
      " [-4514 -3830  3406 -2391 -2788 -3972]\n",
      " [  969  2038  4355  -474  -765 -1906]\n",
      " [-2385   111 -3256 -1109 -4590  1036]]\n"
     ]
    }
   ],
   "source": [
    "saveToFile(matrix, \"tests/\" + fileName)"
   ]
  },
  {
   "cell_type": "code",
   "execution_count": null,
   "id": "spatial-patch",
   "metadata": {},
   "outputs": [],
   "source": []
  }
 ],
 "metadata": {
  "kernelspec": {
   "display_name": "Python 3",
   "language": "python",
   "name": "python3"
  },
  "language_info": {
   "codemirror_mode": {
    "name": "ipython",
    "version": 3
   },
   "file_extension": ".py",
   "mimetype": "text/x-python",
   "name": "python",
   "nbconvert_exporter": "python",
   "pygments_lexer": "ipython3",
   "version": "3.8.10"
  }
 },
 "nbformat": 4,
 "nbformat_minor": 5
}

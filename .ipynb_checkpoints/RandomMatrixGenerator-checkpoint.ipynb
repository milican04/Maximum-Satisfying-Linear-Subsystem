{
 "cells": [
  {
   "cell_type": "markdown",
   "id": "accredited-cambodia",
   "metadata": {},
   "source": [
    "# Random matrix generator "
   ]
  },
  {
   "cell_type": "markdown",
   "id": "timely-convergence",
   "metadata": {},
   "source": [
    "Input: integer numbers n and m, string fileName\n",
    "\n",
    "Output: matrix mx(n+1) of random integer numbers written in file with name fileName (in folder tests)"
   ]
  },
  {
   "cell_type": "code",
   "execution_count": 1,
   "id": "indonesian-spirituality",
   "metadata": {},
   "outputs": [],
   "source": [
    "import numpy as np\n",
    "import random"
   ]
  },
  {
   "cell_type": "code",
   "execution_count": 2,
   "id": "optimum-controversy",
   "metadata": {},
   "outputs": [],
   "source": [
    "def generate(m, n):\n",
    "    return np.random.randint(low=-5000, high=5000, size=(m, n+1))"
   ]
  },
  {
   "cell_type": "code",
   "execution_count": 3,
   "id": "established-spyware",
   "metadata": {},
   "outputs": [],
   "source": [
    "def saveToFile(matrix, path):\n",
    "    mat = np.matrix(matrix)\n",
    "    print(\"Saving following matrix into: \" + path + \".txt...\\n\")\n",
    "    print(mat)\n",
    "    with open(path+\".txt\",'wb') as f:\n",
    "        for line in mat:\n",
    "            np.savetxt(f, line, fmt='%s')"
   ]
  },
  {
   "cell_type": "code",
   "execution_count": 4,
   "id": "sticky-church",
   "metadata": {},
   "outputs": [
    {
     "name": "stdout",
     "output_type": "stream",
     "text": [
      "Enter m\n",
      "35\n",
      "Enter n\n",
      "4\n"
     ]
    }
   ],
   "source": [
    "print(\"Enter m\")\n",
    "m = int(input())\n",
    "\n",
    "print(\"Enter n\")\n",
    "n = int(input()) "
   ]
  },
  {
   "cell_type": "code",
   "execution_count": 5,
   "id": "spatial-texas",
   "metadata": {},
   "outputs": [],
   "source": [
    "matrix = generate(m, n)"
   ]
  },
  {
   "cell_type": "code",
   "execution_count": 6,
   "id": "after-comedy",
   "metadata": {},
   "outputs": [
    {
     "name": "stdout",
     "output_type": "stream",
     "text": [
      "Enter file name\n",
      "35x4\n"
     ]
    }
   ],
   "source": [
    "print(\"Enter file name\")\n",
    "fileName = input()"
   ]
  },
  {
   "cell_type": "code",
   "execution_count": 7,
   "id": "acting-amino",
   "metadata": {},
   "outputs": [
    {
     "name": "stdout",
     "output_type": "stream",
     "text": [
      "Saving following matrix into: tests/35x4.txt...\n",
      "\n",
      "[[ 1104  4981 -1023 -4621 -4919]\n",
      " [-1419 -1874  1429   893  4896]\n",
      " [ 2820 -3642  -249    65  2326]\n",
      " [ 3803   -71 -1703  3687  1712]\n",
      " [-1991 -4801 -2647 -1859  -641]\n",
      " [-3452 -3631    17 -1682  2262]\n",
      " [-3908 -3960  3775  -868  2812]\n",
      " [ 1045  1705 -2778    94 -2969]\n",
      " [ 2383 -3214  4392   694 -2978]\n",
      " [ 4347 -1130  3399 -3906  3212]\n",
      " [-2110  -640  4408  2626    69]\n",
      " [-2616  4697 -2992  3538  4623]\n",
      " [  752 -2597  1198  2640   -98]\n",
      " [ 3588  3699  2585  1769 -3250]\n",
      " [  140 -4225  4522  3451 -2371]\n",
      " [  589  -865  2988 -4718 -4115]\n",
      " [-3373  3640 -2349   887  2924]\n",
      " [-4282   108  3233 -3612 -4907]\n",
      " [-1275  1233  -337  3047  4425]\n",
      " [ 2529 -2677 -4007 -2498  4402]\n",
      " [-4847 -3021  -360  4015  4678]\n",
      " [-1346  1715 -1190  3393 -1097]\n",
      " [  521  2108  1579  3314   765]\n",
      " [-1036  1079 -1012  2237   272]\n",
      " [ 2306 -4871 -1099  3242  1060]\n",
      " [-1667  2413  3707 -4077  4973]\n",
      " [ 1107   111 -3480 -3980 -1792]\n",
      " [ 2585 -3194  4822 -1194 -1055]\n",
      " [-2477  4200  1979  3795 -3362]\n",
      " [-4742  1042 -2489 -1841 -2706]\n",
      " [-3246  3721  2677  4383 -2565]\n",
      " [  565   269  3843 -3464  3779]\n",
      " [ 4308   311  3605  2220  4765]\n",
      " [ 3013 -2476 -1864  2156  -263]\n",
      " [ 1729 -3690 -1740   875   348]]\n"
     ]
    }
   ],
   "source": [
    "saveToFile(matrix, \"tests/\" + fileName)"
   ]
  },
  {
   "cell_type": "code",
   "execution_count": null,
   "id": "spatial-patch",
   "metadata": {},
   "outputs": [],
   "source": []
  },
  {
   "cell_type": "code",
   "execution_count": null,
   "id": "public-partition",
   "metadata": {},
   "outputs": [],
   "source": []
  }
 ],
 "metadata": {
  "kernelspec": {
   "display_name": "Python 3",
   "language": "python",
   "name": "python3"
  },
  "language_info": {
   "codemirror_mode": {
    "name": "ipython",
    "version": 3
   },
   "file_extension": ".py",
   "mimetype": "text/x-python",
   "name": "python",
   "nbconvert_exporter": "python",
   "pygments_lexer": "ipython3",
   "version": "3.8.10"
  }
 },
 "nbformat": 4,
 "nbformat_minor": 5
}

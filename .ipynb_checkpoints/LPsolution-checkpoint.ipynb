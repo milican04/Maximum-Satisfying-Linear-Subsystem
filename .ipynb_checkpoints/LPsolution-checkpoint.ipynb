{
 "cells": [
  {
   "cell_type": "markdown",
   "id": "august-major",
   "metadata": {},
   "source": [
    "# MSLS problem solution via linear programming "
   ]
  },
  {
   "cell_type": "markdown",
   "id": "listed-treat",
   "metadata": {},
   "source": [
    "Input: \n",
    "    .txt file with following shape:\n",
    "    \n",
    "    a11 a12 a13 ... a1m b1\n",
    "    \n",
    "    a21 a22 a23 ... a2m b2\n",
    "    \n",
    "    .\n",
    "    .\n",
    "    .\n",
    "    \n",
    "    an1 an2 an3 ... anm bn\n",
    "    \n",
    "    where aij, bk are integers\n",
    "    \n",
    "Output:\n",
    "    vector of m rational numbers which presents solution of MSLS problem"
   ]
  },
  {
   "cell_type": "code",
   "execution_count": 1,
   "id": "unexpected-mistress",
   "metadata": {},
   "outputs": [],
   "source": [
    "import numpy as np\n",
    "import pandas as pd\n",
    "import itertools\n",
    "from scipy.optimize import linprog\n",
    "import os"
   ]
  },
  {
   "cell_type": "code",
   "execution_count": 2,
   "id": "illegal-stockholm",
   "metadata": {},
   "outputs": [],
   "source": [
    "import warnings\n",
    "warnings.filterwarnings('ignore')"
   ]
  },
  {
   "cell_type": "code",
   "execution_count": 3,
   "id": "agricultural-vault",
   "metadata": {},
   "outputs": [],
   "source": [
    "def readFile(filename):\n",
    "    if filename.endswith('.txt'):\n",
    "        with open(filename, 'r') as f:\n",
    "            mat, A, b = [], [], []\n",
    "            for line in f:\n",
    "                eq = []\n",
    "                for num in line.split():\n",
    "                    eq.append(int(num))\n",
    "                A.append(eq[:-1])\n",
    "                b.append(eq[-1])\n",
    "                mat.append(eq)\n",
    "    else:\n",
    "        raise Exception(\"We need .txt file :)\")\n",
    "    return mat, A, b"
   ]
  },
  {
   "cell_type": "code",
   "execution_count": 4,
   "id": "funny-action",
   "metadata": {},
   "outputs": [],
   "source": [
    "def checkGroup(A, b):\n",
    "    c = np.zeros(shape=(1, len(A[0])))\n",
    "    sol = linprog(c = c, A_eq=A, b_eq= b, method = 'simplex')\n",
    "    return sol.success, sol.x"
   ]
  },
  {
   "cell_type": "code",
   "execution_count": 5,
   "id": "stock-peoples",
   "metadata": {},
   "outputs": [],
   "source": [
    "def comb_with_excludes(lst, n, excludes, i=0, taken=[]):\n",
    "    if n == 0:\n",
    "        yield taken  # no more needed\n",
    "    elif i <= len(lst) - n:\n",
    "        t2 = taken + [lst[i],]  # add current element\n",
    "        if not any(e.issubset(t2) for e in excludes):\n",
    "            yield from comb_with_excludes(lst, n-1, excludes, i+1, t2)\n",
    "        if i < len(lst) - n:  # skip current element\n",
    "            yield from comb_with_excludes(lst, n, excludes, i+1, taken)"
   ]
  },
  {
   "cell_type": "code",
   "execution_count": 6,
   "id": "temporal-publication",
   "metadata": {},
   "outputs": [],
   "source": [
    "# comb_with_excludes([1,2,3,4, 5], 3, [{1, 2}, {2, 3}])"
   ]
  },
  {
   "cell_type": "markdown",
   "id": "thousand-meeting",
   "metadata": {},
   "source": [
    "Algorithm with partitioning"
   ]
  },
  {
   "cell_type": "code",
   "execution_count": 7,
   "id": "nutritional-acrylic",
   "metadata": {},
   "outputs": [],
   "source": [
    "def MSLS2(filepath):\n",
    "    print(\"-----------------------------------------------------------------\")\n",
    "    print(\"FILE: \", filepath)\n",
    "    print(\"WORKING ON IT ...\")\n",
    "    mat, _, _ = readFile(filepath)\n",
    "    eqNums = [i for i in range(len(mat))]\n",
    "    \n",
    "    excluded = []\n",
    "    \n",
    "    maxSatisfied = 1\n",
    "    resultX = linprog(c = [0 for _ in range(len(mat[0]) - 1)], \n",
    "                      A_eq=[mat[0][:-1]], \n",
    "                      b_eq= [mat[0][-1]]\n",
    "                     )\n",
    "    maxSatisfied = 0\n",
    "    finalComb = []\n",
    "    for k in range(2, len(mat)+1):\n",
    "        eq_comb = list(comb_with_excludes([e for e in range(len(mat))], k, excluded))\n",
    "        \n",
    "        for comb in eq_comb:\n",
    "            system = np.array([mat[e] for e in comb])\n",
    "            \n",
    "            A_tmp, b_tmp = system[0:, :-1], system[0:, -1]\n",
    "            \n",
    "            success, sol = checkGroup(A_tmp, b_tmp)\n",
    "                \n",
    "            if success == True:\n",
    "                maxSatisfied = k\n",
    "                finalComb = comb\n",
    "                finalSol = sol\n",
    "            else:\n",
    "                excluded.append(set(comb))\n",
    "                \n",
    "    print(\"Number of satisfied eq is: \", maxSatisfied)\n",
    "    print(\"Solution x: \", finalSol)\n",
    "    print(\"-----------------------------------------------------------------\")"
   ]
  },
  {
   "cell_type": "code",
   "execution_count": 8,
   "id": "explicit-general",
   "metadata": {},
   "outputs": [],
   "source": [
    "def getFiles(dir_path):\n",
    "    fileNames = []\n",
    "\n",
    "    for file_path in os.listdir(dir_path):\n",
    "        if os.path.isfile(os.path.join(dir_path, file_path)):\n",
    "            fileNames.append(dir_path + '/' + file_path)\n",
    "    return fileNames"
   ]
  },
  {
   "cell_type": "markdown",
   "id": "undefined-charlotte",
   "metadata": {},
   "source": [
    "# Tests"
   ]
  },
  {
   "cell_type": "code",
   "execution_count": 9,
   "id": "rocky-shadow",
   "metadata": {},
   "outputs": [
    {
     "name": "stdout",
     "output_type": "stream",
     "text": [
      "-----------------------------------------------------------------\n",
      "FILE:  tests/25x5.txt\n",
      "WORKING ON IT ...\n",
      "Number of satisfied eq is:  5\n",
      "Solution x:  [5.02117154 0.73970634 8.48604109 2.65616595 0.36797689]\n",
      "-----------------------------------------------------------------\n"
     ]
    }
   ],
   "source": [
    "MSLS2('tests/25x5.txt')"
   ]
  },
  {
   "cell_type": "code",
   "execution_count": 11,
   "id": "aggregate-netscape",
   "metadata": {
    "scrolled": false
   },
   "outputs": [
    {
     "name": "stdout",
     "output_type": "stream",
     "text": [
      "-----------------------------------------------------------------\n",
      "FILE:  tests/25x5.txt\n",
      "WORKING ON IT ...\n",
      "Number of satisfied eq is:  5\n",
      "Solution x:  [5.02117154 0.73970634 8.48604109 2.65616595 0.36797689]\n",
      "-----------------------------------------------------------------\n",
      "-----------------------------------------------------------------\n",
      "FILE:  tests/39x4.txt\n",
      "WORKING ON IT ...\n",
      "Number of satisfied eq is:  6\n",
      "Solution x:  [0.4906705  0.9028782  0.22008648 0.41947005]\n",
      "-----------------------------------------------------------------\n",
      "-----------------------------------------------------------------\n",
      "FILE:  tests/38x4.txt\n",
      "WORKING ON IT ...\n",
      "Number of satisfied eq is:  7\n",
      "Solution x:  [12.2834661   5.70204027  1.34613433  2.84878793]\n",
      "-----------------------------------------------------------------\n",
      "-----------------------------------------------------------------\n",
      "FILE:  tests/8x30.txt\n",
      "WORKING ON IT ...\n",
      "Number of satisfied eq is:  8\n",
      "Solution x:  [0.         0.         0.         0.         0.         0.\n",
      " 0.2288906  0.16101761 0.         0.48065317 0.         0.\n",
      " 0.         0.68292374 0.         0.         0.         0.\n",
      " 0.         0.         0.37416505 0.         0.         0.39959476\n",
      " 0.         1.21300874 0.         0.         0.         0.51373454]\n",
      "-----------------------------------------------------------------\n",
      "-----------------------------------------------------------------\n",
      "FILE:  tests/5x20.txt\n",
      "WORKING ON IT ...\n",
      "Number of satisfied eq is:  5\n",
      "Solution x:  [0.         0.         0.         2.6859125  0.         0.64035939\n",
      " 0.         0.         0.05355311 0.         0.         0.\n",
      " 0.         0.         0.         2.11567862 0.         0.30292109\n",
      " 0.         0.        ]\n",
      "-----------------------------------------------------------------\n",
      "-----------------------------------------------------------------\n",
      "FILE:  tests/simple_test1.txt\n",
      "WORKING ON IT ...\n",
      "Number of satisfied eq is:  2\n",
      "Solution x:  [0.         0.22727273 4.58677686]\n",
      "-----------------------------------------------------------------\n",
      "-----------------------------------------------------------------\n",
      "FILE:  tests/simple_test0.txt\n",
      "WORKING ON IT ...\n",
      "Number of satisfied eq is:  16\n",
      "Solution x:  [0.         0.22727273 4.58677686]\n",
      "-----------------------------------------------------------------\n",
      "-----------------------------------------------------------------\n",
      "FILE:  tests/simple_test2.txt\n",
      "WORKING ON IT ...\n",
      "Number of satisfied eq is:  5\n",
      "Solution x:  [0.         0.22727273 4.58677686]\n",
      "-----------------------------------------------------------------\n",
      "-----------------------------------------------------------------\n",
      "FILE:  tests/35x4.txt\n",
      "WORKING ON IT ...\n",
      "Number of satisfied eq is:  4\n",
      "Solution x:  [12.2834661   5.70204027  1.34613433  2.84878793]\n",
      "-----------------------------------------------------------------\n"
     ]
    }
   ],
   "source": [
    "fileNames = getFiles('tests')\n",
    "for fileName in fileNames:\n",
    "    MSLS2(fileName)"
   ]
  },
  {
   "cell_type": "code",
   "execution_count": null,
   "id": "popular-pastor",
   "metadata": {},
   "outputs": [],
   "source": []
  }
 ],
 "metadata": {
  "kernelspec": {
   "display_name": "Python 3",
   "language": "python",
   "name": "python3"
  },
  "language_info": {
   "codemirror_mode": {
    "name": "ipython",
    "version": 3
   },
   "file_extension": ".py",
   "mimetype": "text/x-python",
   "name": "python",
   "nbconvert_exporter": "python",
   "pygments_lexer": "ipython3",
   "version": "3.8.10"
  }
 },
 "nbformat": 4,
 "nbformat_minor": 5
}

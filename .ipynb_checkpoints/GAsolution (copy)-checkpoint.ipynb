{
 "cells": [
  {
   "cell_type": "markdown",
   "id": "stylish-cattle",
   "metadata": {},
   "source": [
    "# MSLS problem solution via genetic algorithm "
   ]
  },
  {
   "cell_type": "code",
   "execution_count": 1,
   "id": "experimental-green",
   "metadata": {},
   "outputs": [],
   "source": [
    "import random\n",
    "import copy\n",
    "import numpy as np\n",
    "from scipy.optimize import linprog"
   ]
  },
  {
   "cell_type": "code",
   "execution_count": 72,
   "id": "legitimate-martial",
   "metadata": {},
   "outputs": [],
   "source": [
    "class Individual:\n",
    "    def __init__(self, A, b):\n",
    "        self.numOfEqs = len(A)\n",
    "        self.numOfVar = len(A[0])\n",
    "        \n",
    "        self.code = [0 for i in range(self.numOfEqs)]\n",
    "        \n",
    "        chosen = random.sample(list(range(0, self.numOfEqs)), self.numOfVar)\n",
    "        \n",
    "        for i in chosen:\n",
    "            self.code[i] = 1\n",
    "        self.calcFitness(A, b)\n",
    "            \n",
    "    def calcFitness(self, A, b):\n",
    "        Atmp, btmp = [], []\n",
    "        for i in range(self.numOfEqs):\n",
    "            if self.code[i] == 1:\n",
    "                Atmp.append(A[i])\n",
    "                btmp.append(b[i])\n",
    "                \n",
    "        if Atmp == []:\n",
    "            self.fitness, self.x = False, None\n",
    "            return\n",
    "        \n",
    "        c = np.zeros(shape=(len(Atmp[0]), 1))\n",
    "        sol = linprog(c = c, A_eq=Atmp, b_eq= btmp)\n",
    "        \n",
    "        if sol.success:\n",
    "            self.fitness, self.x = sol.success, sol.x\n",
    "        self.fitness, self.x = False, None\n",
    "    def inconsistentSystem(A):\n",
    "        return np.linalg.matrix_rank(A) != np.linalg.matrix_rank(A[:,:-1])    \n",
    "#     def fixIndividual(self):\n",
    "#         if self.code == [0 for i in range(len(self.code))]:\n",
    "#             ran = random.randint(0, len(self.code)-1)\n",
    "#             self.code[ran] = 1\n",
    "            \n",
    "    def __eq__(self, other):\n",
    "        if self.fitness == other.fitness and sum(self.code) == sum(other.code):\n",
    "            return True\n",
    "        return False\n",
    "    \n",
    "    def __gt__(self, other):\n",
    "        if (self.fitness == True and other.fitness == False) or (self.fitness == True and other.fitness == True and sum(self.code) > sum(other.code)) or (self.fitness == False and other.fitness == False and sum(self.code) > sum(self.code)):\n",
    "                return True\n",
    "        return False\n",
    "    \n",
    "    def __lt__(self, other):\n",
    "        if not self.__gt__(other) and not self.__eq__(other):\n",
    "            return True\n",
    "        return False\n",
    "    "
   ]
  },
  {
   "cell_type": "code",
   "execution_count": 73,
   "id": "matched-event",
   "metadata": {},
   "outputs": [],
   "source": [
    "def readFile(filename):\n",
    "    if filename.endswith('.txt'):\n",
    "        with open(filename, 'r') as f:\n",
    "            A, b = [], []\n",
    "            for line in f:\n",
    "                eq = []\n",
    "                for num in line.split():\n",
    "                    eq.append(int(num))\n",
    "                A.append(eq[:-1])\n",
    "                b.append(eq[-1])\n",
    "    else:\n",
    "        raise Exception(\"We need .txt file :)\")\n",
    "    return A, b"
   ]
  },
  {
   "cell_type": "code",
   "execution_count": 74,
   "id": "hollywood-military",
   "metadata": {},
   "outputs": [],
   "source": [
    "def selection(population, tournament_size, forbidden):\n",
    "    allowed = list(set(range(len(population))).difference({forbidden}))\n",
    "    chosen = random.sample(allowed, tournament_size)\n",
    "    the_best = population[chosen[0]]\n",
    "    best_idx = 0\n",
    "    for i in chosen:\n",
    "        if population[i] > the_best:\n",
    "            the_best = population[i]\n",
    "            best_idx = i\n",
    "    return best_idx"
   ]
  },
  {
   "cell_type": "code",
   "execution_count": 75,
   "id": "cleared-parks",
   "metadata": {},
   "outputs": [],
   "source": [
    "def mutation(child, mutation_prob):\n",
    "    for i in range(len(child.code)):\n",
    "        if random.random() < mutation_prob:\n",
    "            child.code[i] = child.code[i] ^ 1"
   ]
  },
  {
   "cell_type": "code",
   "execution_count": 89,
   "id": "outdoor-amino",
   "metadata": {},
   "outputs": [],
   "source": [
    "def crossover(parent1, parent2, child1, child2):\n",
    "    pos = random.randrange(1, len(parent1.code))\n",
    "    for i in range(len(parent1.code)):\n",
    "        if i%2 == 1:\n",
    "            child1.code[i] = parent1.code[i]\n",
    "#             child2.code[i] = parent2.code[i]\n",
    "        else:\n",
    "            child1.code[i] = parent2.code[i]\n",
    "#             child2.code[i] = parent1.code[i]\n",
    "   \n",
    "    child2.code[:pos] = parent2.code[:pos]\n",
    "    child2.code[pos:] = parent1.code[pos:]\n",
    "    \n",
    "#     for i in range(len(parent1.code)):\n",
    "#         p = random.random()\n",
    "#         if p <0.5:\n",
    "#             child1.code[i] = parent1.code[i]\n",
    "#         else:\n",
    "#             child1.code[i] = parent2.code[i]"
   ]
  },
  {
   "cell_type": "code",
   "execution_count": 90,
   "id": "metallic-fishing",
   "metadata": {},
   "outputs": [],
   "source": [
    "def ga(pop_size, num_iters, tournament_size, mutation_prob, use_elitism, elitism_size, filePath):\n",
    "    if use_elitism and (pop_size - elitism_size) % 2 == 1:\n",
    "        elitism_size += 1\n",
    "  \n",
    "    A, b = readFile(filePath)\n",
    "    n = len(b)\n",
    "    \n",
    "    population = [Individual(A, b) for _ in range(pop_size)]\n",
    "    new_population = [Individual(A, b) for _ in range(pop_size)]\n",
    "    best_ever = None\n",
    "    for _ in range(num_iters):\n",
    "        if use_elitism:\n",
    "#             print(\"BEFORE:\")\n",
    "#             for i in range(len(population)):\n",
    "#                 print(population[i].code, \" \", population[i].fitness)\n",
    "                \n",
    "            population.sort(reverse=True)\n",
    "            best_ever = population[0] \n",
    "#             print(\"AFTER:\")\n",
    "#             for i in range(len(population)):\n",
    "#                 print(population[i].code, \" \", population[i].fitness)\n",
    "                \n",
    "            new_population[:elitism_size] = population[:elitism_size]\n",
    "        best_ever = None   \n",
    "        for i in range(elitism_size, pop_size, 2):\n",
    "            parent1_idx = selection(population, tournament_size, None)\n",
    "            parent2_idx = selection(population, tournament_size, parent1_idx)\n",
    "            \n",
    "            crossover(population[parent1_idx],\n",
    "                      population[parent2_idx],\n",
    "                      new_population[i],\n",
    "                      new_population[i+1])\n",
    "            mutation(new_population[i], mutation_prob)\n",
    "            mutation(new_population[i+1], mutation_prob)\n",
    "            \n",
    "            new_population[i].calcFitness(A, b)\n",
    "            new_population[i+1].calcFitness(A, b)\n",
    "        \n",
    "        population[:] = new_population[:]\n",
    "    \n",
    "    best_individual = max(population[:])\n",
    "    \n",
    "    for i in range(len(population)):\n",
    "        if population[i].fitness:\n",
    "            print(population[i].code)\n",
    "        \n",
    "    print(max(population[:]).code)\n",
    "\n",
    "    print(\"Number of satisfied eq is: \", sum(best_individual.code))\n",
    "    print(\"Satisfied eqs are: \")\n",
    "    for i in range(len(best_individual.code)):\n",
    "        if best_individual.code[i] == 1:\n",
    "            print(A[i] + [b[i]])\n",
    "    print(best_individual.fitness)\n",
    "    print(best_individual.x)"
   ]
  },
  {
   "cell_type": "code",
   "execution_count": 91,
   "id": "exotic-region",
   "metadata": {
    "scrolled": true
   },
   "outputs": [
    {
     "name": "stderr",
     "output_type": "stream",
     "text": [
      "<ipython-input-72-7b054fb0ad26>:26: OptimizeWarning: A_eq does not appear to be of full row rank. To improve performance, check the problem formulation for redundant equality constraints.\n",
      "  sol = linprog(c = c, A_eq=Atmp, b_eq= btmp)\n"
     ]
    },
    {
     "name": "stdout",
     "output_type": "stream",
     "text": [
      "[0, 0, 1, 0]\n",
      "Number of satisfied eq is:  1\n",
      "Satisfied eqs are: \n",
      "[22, 22, 0, 5]\n",
      "False\n",
      "None\n"
     ]
    }
   ],
   "source": [
    "ga( 100, 100, 10, 0.05, True, 19, \"tests/simple_test1.txt\")"
   ]
  },
  {
   "cell_type": "code",
   "execution_count": 92,
   "id": "outdoor-magazine",
   "metadata": {},
   "outputs": [
    {
     "name": "stderr",
     "output_type": "stream",
     "text": [
      "<ipython-input-72-7b054fb0ad26>:26: OptimizeWarning: A_eq does not appear to be of full row rank. To improve performance, check the problem formulation for redundant equality constraints.\n",
      "  sol = linprog(c = c, A_eq=Atmp, b_eq= btmp)\n"
     ]
    },
    {
     "name": "stdout",
     "output_type": "stream",
     "text": [
      "[0, 0, 0, 1, 1, 1, 0, 1, 1, 0, 0, 0, 0, 0, 1, 1, 1, 0, 0, 1, 0, 1, 1, 0, 0]\n",
      "Number of satisfied eq is:  11\n",
      "Satisfied eqs are: \n",
      "[2807, 3276, -4717, -250, 2264, -4699]\n",
      "[-2521, -4660, 4934, 2161, 3581, -4897]\n",
      "[-1322, -1849, -793, -350, 453, -321]\n",
      "[-3757, 4138, -4679, 4100, -3268, -1892]\n",
      "[-3451, -2387, -23, 1299, -4998, -1335]\n",
      "[1536, 4034, -1680, -741, -2481, -2743]\n",
      "[23, 2116, -1810, 4146, -4708, -4399]\n",
      "[2511, 2377, -1044, 3666, 3802, 353]\n",
      "[-2013, -1124, 2038, -2970, -578, -1746]\n",
      "[-4735, 1770, 1130, 2602, 3254, -4768]\n",
      "[-4514, -3830, 3406, -2391, -2788, -3972]\n",
      "False\n",
      "None\n"
     ]
    }
   ],
   "source": [
    "ga(100, 100, 10, 0.05, True, 19, \"tests/25x5.txt\")"
   ]
  },
  {
   "cell_type": "code",
   "execution_count": null,
   "id": "separate-paradise",
   "metadata": {},
   "outputs": [],
   "source": []
  },
  {
   "cell_type": "code",
   "execution_count": null,
   "id": "neural-aircraft",
   "metadata": {},
   "outputs": [],
   "source": []
  },
  {
   "cell_type": "code",
   "execution_count": null,
   "id": "underlying-peoples",
   "metadata": {},
   "outputs": [],
   "source": []
  },
  {
   "cell_type": "code",
   "execution_count": null,
   "id": "printable-midnight",
   "metadata": {},
   "outputs": [],
   "source": []
  }
 ],
 "metadata": {
  "kernelspec": {
   "display_name": "Python 3",
   "language": "python",
   "name": "python3"
  },
  "language_info": {
   "codemirror_mode": {
    "name": "ipython",
    "version": 3
   },
   "file_extension": ".py",
   "mimetype": "text/x-python",
   "name": "python",
   "nbconvert_exporter": "python",
   "pygments_lexer": "ipython3",
   "version": "3.8.10"
  }
 },
 "nbformat": 4,
 "nbformat_minor": 5
}

{
 "cells": [
  {
   "cell_type": "markdown",
   "id": "august-major",
   "metadata": {},
   "source": [
    "# MSLS problem solution via linear programming "
   ]
  },
  {
   "cell_type": "markdown",
   "id": "listed-treat",
   "metadata": {},
   "source": [
    "Input: \n",
    "    .txt file with following shape:\n",
    "    \n",
    "    a11 a12 a13 ... a1m b1\n",
    "    \n",
    "    a21 a22 a23 ... a2m b2\n",
    "    \n",
    "    .\n",
    "    .\n",
    "    .\n",
    "    \n",
    "    an1 an2 an3 ... anm bn\n",
    "    \n",
    "    where aij, bk are integers\n",
    "    \n",
    "Output:\n",
    "    vector of m rational numbers which presents solution of MSLS problem"
   ]
  },
  {
   "cell_type": "code",
   "execution_count": 15,
   "id": "unexpected-mistress",
   "metadata": {},
   "outputs": [],
   "source": [
    "import numpy as np\n",
    "import pandas as pd\n",
    "import itertools\n",
    "from scipy.optimize import linprog"
   ]
  },
  {
   "cell_type": "code",
   "execution_count": 16,
   "id": "agricultural-vault",
   "metadata": {},
   "outputs": [],
   "source": [
    "def readFile(filename):\n",
    "    if filename.endswith('.txt'):\n",
    "        with open(filename, 'r') as f:\n",
    "            mat, A, b = [], [], []\n",
    "            for line in f:\n",
    "                eq = []\n",
    "                for num in line.split():\n",
    "                    eq.append(int(num))\n",
    "                A.append(eq[:-1])\n",
    "                b.append(eq[-1])\n",
    "                mat.append(eq)\n",
    "    else:\n",
    "        raise Exception(\"We need .txt file :)\")\n",
    "    return mat, A, b"
   ]
  },
  {
   "cell_type": "code",
   "execution_count": 17,
   "id": "funny-action",
   "metadata": {},
   "outputs": [],
   "source": [
    "def checkGroup(A, b):\n",
    "    c = np.zeros(shape=(1, len(A[0])))\n",
    "    sol = linprog(c = c, A_eq=A, b_eq= b)\n",
    "    return sol.success, sol.x"
   ]
  },
  {
   "cell_type": "code",
   "execution_count": 18,
   "id": "straight-privilege",
   "metadata": {},
   "outputs": [],
   "source": [
    "def MSLS1(filepath):\n",
    "    _, A, b = readFile(filepath)\n",
    "    for k in range(len(A), 0, -1):\n",
    "        A_comb = list(itertools.combinations(A, k))\n",
    "        b_comb = list(itertools.combinations(b, k))\n",
    "        for i in range(len(A_comb)):\n",
    "            A_tmp, b_tmp = A_comb[i], b_comb[i]\n",
    "            success, x = checkGroup(A_tmp, b_tmp)\n",
    "            if success == True:\n",
    "                print(\"Number of satisfied: \", k)\n",
    "                print(x)\n",
    "                return"
   ]
  },
  {
   "cell_type": "markdown",
   "id": "humanitarian-patrick",
   "metadata": {},
   "source": [
    "Algorithm with partitioning"
   ]
  },
  {
   "cell_type": "code",
   "execution_count": 19,
   "id": "stock-peoples",
   "metadata": {},
   "outputs": [],
   "source": [
    "def comb_with_excludes(lst, n, excludes, i=0, taken=()):\n",
    "    if n == 0:\n",
    "        yield taken  # no more needed\n",
    "    elif i <= len(lst) - n:\n",
    "        t2 = taken + (lst[i],)  # add current element\n",
    "        if not any(e.issubset(t2) for e in excludes):\n",
    "            yield from comb_with_excludes(lst, n-1, excludes, i+1, t2)\n",
    "        if i < len(lst) - n:  # skip current element\n",
    "            yield from comb_with_excludes(lst, n, excludes, i+1, taken)"
   ]
  },
  {
   "cell_type": "code",
   "execution_count": 54,
   "id": "nutritional-acrylic",
   "metadata": {},
   "outputs": [],
   "source": [
    "def MSLS2(filepath):\n",
    "    mat, _, _ = readFile(filepath)\n",
    "    eqNums = [i for i in range(len(mat))]\n",
    "    \n",
    "    excluded = []\n",
    "    \n",
    "    maxSatisfied = 1\n",
    "    resultX = linprog(c = [0 for _ in range(len(mat[0]) - 1)], \n",
    "                      A_eq=[mat[0][:-1]], \n",
    "                      b_eq= [mat[0][-1]]\n",
    "                     )\n",
    "    \n",
    "    for k in range(2, len(mat)+1):\n",
    "        eq_comb = list(comb_with_excludes(mat, k, excluded))\n",
    "        \n",
    "        for comb in eq_comb:\n",
    "            print(comb)\n",
    "            A_tmp, b_tmp = comb[0:, :-1], comb[0:, -1]\n",
    "            \n",
    "            print(A_tmp, \"  \", b_tmp)\n",
    "            success, x = checkGroup(A_tmp, b_tmp)\n",
    "            \n",
    "            if success == True:\n",
    "                resultX = x\n",
    "                maxSatisfied = k\n",
    "            else:\n",
    "                excluded.append(comb)\n",
    "                \n",
    "    print(\"Number of satisfied: \", kmaxSatisfied)\n",
    "    print(resultX)\n",
    "    return"
   ]
  },
  {
   "cell_type": "markdown",
   "id": "undefined-charlotte",
   "metadata": {},
   "source": [
    "# Test examples"
   ]
  },
  {
   "cell_type": "code",
   "execution_count": 55,
   "id": "encouraging-boards",
   "metadata": {},
   "outputs": [
    {
     "name": "stdout",
     "output_type": "stream",
     "text": [
      "([11, -1, 221, 3], [-3, -888, 44, 0])\n"
     ]
    },
    {
     "ename": "TypeError",
     "evalue": "tuple indices must be integers or slices, not tuple",
     "output_type": "error",
     "traceback": [
      "\u001b[0;31m---------------------------------------------------------------------------\u001b[0m",
      "\u001b[0;31mTypeError\u001b[0m                                 Traceback (most recent call last)",
      "\u001b[0;32m<ipython-input-55-55d49cb89463>\u001b[0m in \u001b[0;36m<module>\u001b[0;34m\u001b[0m\n\u001b[0;32m----> 1\u001b[0;31m \u001b[0mMSLS2\u001b[0m\u001b[0;34m(\u001b[0m\u001b[0;34m'tests/simple_test1.txt'\u001b[0m\u001b[0;34m)\u001b[0m\u001b[0;34m\u001b[0m\u001b[0;34m\u001b[0m\u001b[0m\n\u001b[0m",
      "\u001b[0;32m<ipython-input-54-5059b5846850>\u001b[0m in \u001b[0;36mMSLS2\u001b[0;34m(filepath)\u001b[0m\n\u001b[1;32m     16\u001b[0m         \u001b[0;32mfor\u001b[0m \u001b[0mcomb\u001b[0m \u001b[0;32min\u001b[0m \u001b[0meq_comb\u001b[0m\u001b[0;34m:\u001b[0m\u001b[0;34m\u001b[0m\u001b[0;34m\u001b[0m\u001b[0m\n\u001b[1;32m     17\u001b[0m             \u001b[0mprint\u001b[0m\u001b[0;34m(\u001b[0m\u001b[0mcomb\u001b[0m\u001b[0;34m)\u001b[0m\u001b[0;34m\u001b[0m\u001b[0;34m\u001b[0m\u001b[0m\n\u001b[0;32m---> 18\u001b[0;31m             \u001b[0mA_tmp\u001b[0m\u001b[0;34m,\u001b[0m \u001b[0mb_tmp\u001b[0m \u001b[0;34m=\u001b[0m \u001b[0mcomb\u001b[0m\u001b[0;34m[\u001b[0m\u001b[0;36m0\u001b[0m\u001b[0;34m:\u001b[0m\u001b[0;34m,\u001b[0m \u001b[0;34m:\u001b[0m\u001b[0;34m-\u001b[0m\u001b[0;36m1\u001b[0m\u001b[0;34m]\u001b[0m\u001b[0;34m,\u001b[0m \u001b[0mcomb\u001b[0m\u001b[0;34m[\u001b[0m\u001b[0;36m0\u001b[0m\u001b[0;34m:\u001b[0m\u001b[0;34m,\u001b[0m \u001b[0;34m-\u001b[0m\u001b[0;36m1\u001b[0m\u001b[0;34m]\u001b[0m\u001b[0;34m\u001b[0m\u001b[0;34m\u001b[0m\u001b[0m\n\u001b[0m\u001b[1;32m     19\u001b[0m \u001b[0;34m\u001b[0m\u001b[0m\n\u001b[1;32m     20\u001b[0m             \u001b[0mprint\u001b[0m\u001b[0;34m(\u001b[0m\u001b[0mA_tmp\u001b[0m\u001b[0;34m,\u001b[0m \u001b[0;34m\"  \"\u001b[0m\u001b[0;34m,\u001b[0m \u001b[0mb_tmp\u001b[0m\u001b[0;34m)\u001b[0m\u001b[0;34m\u001b[0m\u001b[0;34m\u001b[0m\u001b[0m\n",
      "\u001b[0;31mTypeError\u001b[0m: tuple indices must be integers or slices, not tuple"
     ]
    }
   ],
   "source": [
    "MSLS2('tests/simple_test1.txt')"
   ]
  },
  {
   "cell_type": "code",
   "execution_count": 25,
   "id": "square-gothic",
   "metadata": {},
   "outputs": [
    {
     "ename": "TypeError",
     "evalue": "'list' object cannot be interpreted as an integer",
     "output_type": "error",
     "traceback": [
      "\u001b[0;31m---------------------------------------------------------------------------\u001b[0m",
      "\u001b[0;31mTypeError\u001b[0m                                 Traceback (most recent call last)",
      "\u001b[0;32m<ipython-input-25-184ae9085ce2>\u001b[0m in \u001b[0;36m<module>\u001b[0;34m\u001b[0m\n\u001b[0;32m----> 1\u001b[0;31m \u001b[0mMSLS2\u001b[0m\u001b[0;34m(\u001b[0m\u001b[0;34m'tests/test1.txt'\u001b[0m\u001b[0;34m)\u001b[0m\u001b[0;34m\u001b[0m\u001b[0;34m\u001b[0m\u001b[0m\n\u001b[0m",
      "\u001b[0;32m<ipython-input-23-2342f7dc36b9>\u001b[0m in \u001b[0;36mMSLS2\u001b[0;34m(filepath)\u001b[0m\n\u001b[1;32m      6\u001b[0m \u001b[0;34m\u001b[0m\u001b[0m\n\u001b[1;32m      7\u001b[0m     \u001b[0mmaxSatisfied\u001b[0m \u001b[0;34m=\u001b[0m \u001b[0;36m1\u001b[0m\u001b[0;34m\u001b[0m\u001b[0;34m\u001b[0m\u001b[0m\n\u001b[0;32m----> 8\u001b[0;31m     \u001b[0mresultX\u001b[0m \u001b[0;34m=\u001b[0m \u001b[0mlinprog\u001b[0m\u001b[0;34m(\u001b[0m\u001b[0mc\u001b[0m \u001b[0;34m=\u001b[0m \u001b[0;34m[\u001b[0m\u001b[0;36m0\u001b[0m \u001b[0;32mfor\u001b[0m \u001b[0m_\u001b[0m \u001b[0;32min\u001b[0m \u001b[0mrange\u001b[0m\u001b[0;34m(\u001b[0m\u001b[0mmat\u001b[0m\u001b[0;34m[\u001b[0m\u001b[0;36m0\u001b[0m\u001b[0;34m]\u001b[0m\u001b[0;34m[\u001b[0m\u001b[0;34m:\u001b[0m\u001b[0;34m-\u001b[0m\u001b[0;36m1\u001b[0m\u001b[0;34m]\u001b[0m\u001b[0;34m)\u001b[0m\u001b[0;34m]\u001b[0m\u001b[0;34m,\u001b[0m \u001b[0mA_eq\u001b[0m\u001b[0;34m=\u001b[0m\u001b[0;34m[\u001b[0m\u001b[0mmat\u001b[0m\u001b[0;34m[\u001b[0m\u001b[0;36m0\u001b[0m\u001b[0;34m]\u001b[0m\u001b[0;34m[\u001b[0m\u001b[0;34m:\u001b[0m\u001b[0;34m-\u001b[0m\u001b[0;36m1\u001b[0m\u001b[0;34m]\u001b[0m\u001b[0;34m]\u001b[0m\u001b[0;34m,\u001b[0m \u001b[0mb_eq\u001b[0m\u001b[0;34m=\u001b[0m \u001b[0;34m[\u001b[0m\u001b[0mmat\u001b[0m\u001b[0;34m[\u001b[0m\u001b[0;36m0\u001b[0m\u001b[0;34m]\u001b[0m\u001b[0;34m[\u001b[0m\u001b[0;34m-\u001b[0m\u001b[0;36m1\u001b[0m\u001b[0;34m]\u001b[0m\u001b[0;34m]\u001b[0m\u001b[0;34m)\u001b[0m\u001b[0;34m\u001b[0m\u001b[0;34m\u001b[0m\u001b[0m\n\u001b[0m\u001b[1;32m      9\u001b[0m     \u001b[0;32mfor\u001b[0m \u001b[0mk\u001b[0m \u001b[0;32min\u001b[0m \u001b[0mrange\u001b[0m\u001b[0;34m(\u001b[0m\u001b[0mlen\u001b[0m\u001b[0;34m(\u001b[0m\u001b[0mmat\u001b[0m\u001b[0;34m)\u001b[0m\u001b[0;34m)\u001b[0m\u001b[0;34m:\u001b[0m\u001b[0;34m\u001b[0m\u001b[0;34m\u001b[0m\u001b[0m\n\u001b[1;32m     10\u001b[0m         \u001b[0meq_comb\u001b[0m \u001b[0;34m=\u001b[0m \u001b[0mlist\u001b[0m\u001b[0;34m(\u001b[0m\u001b[0mcomb_with_excludes\u001b[0m\u001b[0;34m(\u001b[0m\u001b[0mmat\u001b[0m\u001b[0;34m,\u001b[0m \u001b[0mk\u001b[0m\u001b[0;34m,\u001b[0m \u001b[0mexcluded\u001b[0m\u001b[0;34m)\u001b[0m\u001b[0;34m)\u001b[0m\u001b[0;34m\u001b[0m\u001b[0;34m\u001b[0m\u001b[0m\n",
      "\u001b[0;31mTypeError\u001b[0m: 'list' object cannot be interpreted as an integer"
     ]
    }
   ],
   "source": [
    "MSLS2('tests/test1.txt')"
   ]
  },
  {
   "cell_type": "code",
   "execution_count": 95,
   "id": "linear-jerusalem",
   "metadata": {},
   "outputs": [],
   "source": [
    "mat = [[1, 2, 3, 4], \n",
    "       [1, 2, 5, 5]]"
   ]
  },
  {
   "cell_type": "code",
   "execution_count": 96,
   "id": "loose-evidence",
   "metadata": {},
   "outputs": [
    {
     "name": "stdout",
     "output_type": "stream",
     "text": [
      "2   4\n"
     ]
    },
    {
     "data": {
      "text/plain": [
       "[[1, 2, 3, 4], [1, 2, 5, 5]]"
      ]
     },
     "execution_count": 96,
     "metadata": {},
     "output_type": "execute_result"
    }
   ],
   "source": [
    "i = len(mat)\n",
    "j = len(mat[0])\n",
    "print(i, \" \", j)\n",
    "mat[0:2][0:2]"
   ]
  },
  {
   "cell_type": "code",
   "execution_count": 35,
   "id": "stainless-cover",
   "metadata": {},
   "outputs": [
    {
     "data": {
      "text/plain": [
       "[0, 0, 0]"
      ]
     },
     "execution_count": 35,
     "metadata": {},
     "output_type": "execute_result"
    }
   ],
   "source": [
    "[0 for i in range(len(mat[0]) - 1)]"
   ]
  },
  {
   "cell_type": "code",
   "execution_count": 38,
   "id": "twelve-vitamin",
   "metadata": {},
   "outputs": [],
   "source": []
  },
  {
   "cell_type": "code",
   "execution_count": 39,
   "id": "intensive-particle",
   "metadata": {},
   "outputs": [
    {
     "data": {
      "text/plain": [
       "     con: array([-5.06235054e-11])\n",
       "     fun: 0.0\n",
       " message: 'Optimization terminated successfully.'\n",
       "     nit: 3\n",
       "   slack: array([], dtype=float64)\n",
       "  status: 0\n",
       " success: True\n",
       "       x: array([0.71569966, 0.6788737 , 0.64218431])"
      ]
     },
     "execution_count": 39,
     "metadata": {},
     "output_type": "execute_result"
    }
   ],
   "source": [
    "resultX"
   ]
  },
  {
   "cell_type": "code",
   "execution_count": null,
   "id": "handy-insert",
   "metadata": {},
   "outputs": [],
   "source": []
  }
 ],
 "metadata": {
  "kernelspec": {
   "display_name": "Python 3",
   "language": "python",
   "name": "python3"
  },
  "language_info": {
   "codemirror_mode": {
    "name": "ipython",
    "version": 3
   },
   "file_extension": ".py",
   "mimetype": "text/x-python",
   "name": "python",
   "nbconvert_exporter": "python",
   "pygments_lexer": "ipython3",
   "version": "3.8.10"
  }
 },
 "nbformat": 4,
 "nbformat_minor": 5
}

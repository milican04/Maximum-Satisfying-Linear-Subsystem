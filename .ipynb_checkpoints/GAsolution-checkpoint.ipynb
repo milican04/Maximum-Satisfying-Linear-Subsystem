{
 "cells": [
  {
   "cell_type": "markdown",
   "id": "stylish-cattle",
   "metadata": {},
   "source": [
    "# MSLS problem solution via genetic algorithm "
   ]
  },
  {
   "cell_type": "code",
   "execution_count": 1,
   "id": "experimental-green",
   "metadata": {},
   "outputs": [],
   "source": [
    "import random\n",
    "import copy\n",
    "import numpy as np\n",
    "from scipy.optimize import linprog"
   ]
  },
  {
   "cell_type": "code",
   "execution_count": null,
   "id": "fossil-seminar",
   "metadata": {},
   "outputs": [],
   "source": [
    "import warnings\n",
    "warnings.filterwarnings('ignore')"
   ]
  },
  {
   "cell_type": "code",
   "execution_count": 2,
   "id": "legitimate-martial",
   "metadata": {},
   "outputs": [],
   "source": [
    "class Individual:\n",
    "    def __init__(self, numOfEqs, A, b):\n",
    "        self.numOfEqs = len(A)\n",
    "        self.numOfVar = len(A[0])\n",
    "        \n",
    "        self.code = [0 for i in range(self.numOfEqs)]\n",
    "        \n",
    "        chosen = random.sample(list(range(0, self.numOfEqs)), self.numOfVar)\n",
    "        \n",
    "        for i in chosen:\n",
    "            self.code[i] = 1\n",
    "        self.calcFitness(A, b)\n",
    "            \n",
    "    def calcFitness(self, A, b):\n",
    "        Atmp, btmp = [], []\n",
    "        for i in range(self.numOfEqs):\n",
    "            if self.code[i] == 1:\n",
    "                Atmp.append(A[i])\n",
    "                btmp.append(b[i])\n",
    "                \n",
    "        if Atmp == []:\n",
    "            self.fitness, self.x = False, None\n",
    "            return\n",
    "        \n",
    "        c = np.zeros(shape=(len(Atmp[0]), 1))\n",
    "        sol = linprog(c = c, A_eq=Atmp, b_eq= btmp)\n",
    "\n",
    "        self.fitness, self.x = sol.success, sol.x\n",
    "    def inconsistentSystem(A):\n",
    "        return np.linalg.matrix_rank(A) != np.linalg.matrix_rank(A[:,:-1])    \n",
    "#     def fixIndividual(self):\n",
    "#         if self.code == [0 for i in range(len(self.code))]:\n",
    "#             ran = random.randint(0, len(self.code)-1)\n",
    "#             self.code[ran] = 1\n",
    "            \n",
    "    def __eq__(self, other):\n",
    "        if self.fitness == other.fitness and sum(self.code) == sum(other.code):\n",
    "            return True\n",
    "        return False\n",
    "    \n",
    "    def __gt__(self, other):\n",
    "        if (self.fitness == True and other.fitness == False) or (self.fitness == True and other.fitness == True and sum(self.code) > sum(other.code)) or (self.fitness == False and other.fitness == False and sum(self.code) > sum(self.code)):\n",
    "                return True\n",
    "        return False\n",
    "    \n",
    "    def __lt__(self, other):\n",
    "        if not self.__gt__(other) and not self.__eq__(other):\n",
    "            return True\n",
    "        return False\n",
    "    "
   ]
  },
  {
   "cell_type": "code",
   "execution_count": 3,
   "id": "matched-event",
   "metadata": {},
   "outputs": [],
   "source": [
    "def readFile(filename):\n",
    "    if filename.endswith('.txt'):\n",
    "        with open(filename, 'r') as f:\n",
    "            A, b = [], []\n",
    "            for line in f:\n",
    "                eq = []\n",
    "                for num in line.split():\n",
    "                    eq.append(int(num))\n",
    "                A.append(eq[:-1])\n",
    "                b.append(eq[-1])\n",
    "    else:\n",
    "        raise Exception(\"We need .txt file :)\")\n",
    "    return A, b"
   ]
  },
  {
   "cell_type": "code",
   "execution_count": 4,
   "id": "hollywood-military",
   "metadata": {},
   "outputs": [],
   "source": [
    "def selection(population, tournament_size, forbidden):\n",
    "    allowed = list(set(range(len(population))).difference({forbidden}))\n",
    "    chosen = random.sample(allowed, tournament_size)\n",
    "    max_fitness = float('-inf')\n",
    "    best_idx = -1\n",
    "    for i in chosen:\n",
    "        if population[i].fitness > max_fitness:\n",
    "            max_fitness = population[i].fitness\n",
    "            best_idx = i\n",
    "    return best_idx"
   ]
  },
  {
   "cell_type": "code",
   "execution_count": 5,
   "id": "cleared-parks",
   "metadata": {},
   "outputs": [],
   "source": [
    "def mutation(child, mutation_prob):\n",
    "    for i in range(len(child.code)):\n",
    "        if random.random() < mutation_prob:\n",
    "            child.code[i] = child.code[i] ^ 1"
   ]
  },
  {
   "cell_type": "code",
   "execution_count": 6,
   "id": "outdoor-amino",
   "metadata": {},
   "outputs": [],
   "source": [
    "def crossover(parent1, parent2, child1, child2):\n",
    "    pos = random.randrange(1, len(parent1.code))\n",
    "    for i in range(len(parent1.code)):\n",
    "        if i%2 == 1:\n",
    "            child1.code[i] = parent1.code[i]\n",
    "#             child2.code[i] = parent2.code[i]\n",
    "        else:\n",
    "            child1.code[i] = parent2.code[i]\n",
    "#             child2.code[i] = parent1.code[i]\n",
    "   \n",
    "    child2.code[:pos] = parent2.code[:pos]\n",
    "    child2.code[pos:] = parent1.code[pos:]"
   ]
  },
  {
   "cell_type": "code",
   "execution_count": 17,
   "id": "metallic-fishing",
   "metadata": {},
   "outputs": [],
   "source": [
    "def ga(pop_size, num_iters, tournament_size, mutation_prob, use_elitism, elitism_size, filePath):\n",
    "    if use_elitism and (pop_size - elitism_size) % 2 == 1:\n",
    "        elitism_size += 1\n",
    "  \n",
    "    A, b = readFile(filePath)\n",
    "    n = len(b)\n",
    "    \n",
    "    population = [Individual(n, A, b) for _ in range(pop_size)]\n",
    "    new_population = [Individual(n, A, b) for _ in range(pop_size)]\n",
    "    best_ever = None\n",
    "    for _ in range(num_iters):\n",
    "        if use_elitism:\n",
    "#             print(\"BEFORE:\")\n",
    "#             for i in range(len(population)):\n",
    "#                 print(population[i].code, \" \", population[i].fitness)\n",
    "                \n",
    "            population.sort(reverse=True)\n",
    "            \n",
    "#             print(\"AFTER:\")\n",
    "#             for i in range(len(population)):\n",
    "#                 print(population[i].code, \" \", population[i].fitness)\n",
    "                \n",
    "            new_population[:elitism_size] = population[:elitism_size]\n",
    "        best_ever = None   \n",
    "        for i in range(elitism_size, pop_size, 2):\n",
    "            parent1_idx = selection(population, tournament_size, None)\n",
    "            parent2_idx = selection(population, tournament_size, parent1_idx)\n",
    "            \n",
    "            crossover(population[parent1_idx],\n",
    "                      population[parent2_idx],\n",
    "                      new_population[i],\n",
    "                      new_population[i+1])\n",
    "            mutation(new_population[i], mutation_prob)\n",
    "            mutation(new_population[i+1], mutation_prob)\n",
    "            \n",
    "            new_population[i].calcFitness(A, b)\n",
    "            new_population[i+1].calcFitness(A, b)\n",
    "        \n",
    "        population[:] = new_population[:]\n",
    "    for i in range(len(population)):\n",
    "        if population[i].fitness:\n",
    "            print(population[i].code,  sum(population[i].code))\n",
    "            \n",
    "    best_individual = max(population[:])\n",
    "    print(\"Number of satisfied eq is: \", sum(best_individual.code))\n",
    "    print(best_individual.fitness)\n",
    "    print(best_individual.x)"
   ]
  },
  {
   "cell_type": "markdown",
   "id": "multiple-motor",
   "metadata": {},
   "source": [
    "# Iter = 100"
   ]
  },
  {
   "cell_type": "code",
   "execution_count": null,
   "id": "organic-water",
   "metadata": {},
   "outputs": [],
   "source": [
    "iters = 100"
   ]
  },
  {
   "cell_type": "code",
   "execution_count": 1,
   "id": "constant-entrance",
   "metadata": {},
   "outputs": [
    {
     "ename": "NameError",
     "evalue": "name 'ga' is not defined",
     "output_type": "error",
     "traceback": [
      "\u001b[0;31m---------------------------------------------------------------------------\u001b[0m",
      "\u001b[0;31mNameError\u001b[0m                                 Traceback (most recent call last)",
      "\u001b[0;32m<ipython-input-1-f348cadd45ca>\u001b[0m in \u001b[0;36m<module>\u001b[0;34m\u001b[0m\n\u001b[0;32m----> 1\u001b[0;31m \u001b[0mga\u001b[0m\u001b[0;34m(\u001b[0m\u001b[0;36m100\u001b[0m\u001b[0;34m,\u001b[0m \u001b[0;36m100\u001b[0m\u001b[0;34m,\u001b[0m \u001b[0;36m10\u001b[0m\u001b[0;34m,\u001b[0m \u001b[0;36m0.05\u001b[0m\u001b[0;34m,\u001b[0m \u001b[0;32mTrue\u001b[0m\u001b[0;34m,\u001b[0m \u001b[0;36m19\u001b[0m\u001b[0;34m,\u001b[0m \u001b[0;34m\"tests/simple_test0.txt\"\u001b[0m\u001b[0;34m)\u001b[0m\u001b[0;34m\u001b[0m\u001b[0;34m\u001b[0m\u001b[0m\n\u001b[0m",
      "\u001b[0;31mNameError\u001b[0m: name 'ga' is not defined"
     ]
    }
   ],
   "source": [
    "ga(100, iters, 10, 0.05, True, 19, \"tests/simple_test0.txt\")"
   ]
  },
  {
   "cell_type": "code",
   "execution_count": 19,
   "id": "exotic-region",
   "metadata": {
    "scrolled": false
   },
   "outputs": [
    {
     "name": "stderr",
     "output_type": "stream",
     "text": [
      "<ipython-input-2-66aea9309809>:26: OptimizeWarning: A_eq does not appear to be of full row rank. To improve performance, check the problem formulation for redundant equality constraints.\n",
      "  sol = linprog(c = c, A_eq=Atmp, b_eq= btmp)\n"
     ]
    },
    {
     "name": "stdout",
     "output_type": "stream",
     "text": [
      "[0, 1, 0, 0] 1\n",
      "[0, 1, 0, 0] 1\n",
      "[0, 1, 0, 0] 1\n",
      "[1, 1, 0, 0] 2\n",
      "[1, 1, 0, 0] 2\n",
      "[1, 1, 0, 0] 2\n",
      "[0, 1, 0, 0] 1\n",
      "[1, 1, 0, 0] 2\n",
      "[0, 1, 1, 0] 2\n",
      "[0, 1, 1, 0] 2\n",
      "[0, 1, 1, 0] 2\n",
      "[0, 1, 1, 0] 2\n",
      "[1, 1, 0, 0] 2\n",
      "[1, 1, 0, 0] 2\n",
      "[0, 1, 0, 0] 1\n",
      "[0, 1, 1, 0] 2\n",
      "[0, 1, 0, 0] 1\n",
      "[0, 1, 1, 0] 2\n",
      "[0, 1, 1, 0] 2\n",
      "[0, 1, 1, 0] 2\n",
      "[0, 1, 0, 0] 1\n",
      "[1, 1, 0, 0] 2\n",
      "[1, 1, 0, 0] 2\n",
      "[1, 0, 0, 0] 1\n",
      "[1, 1, 0, 0] 2\n",
      "[1, 1, 0, 0] 2\n",
      "[0, 1, 1, 0] 2\n",
      "[0, 1, 1, 0] 2\n",
      "[1, 1, 0, 0] 2\n",
      "[1, 1, 0, 0] 2\n",
      "[1, 1, 0, 0] 2\n",
      "[0, 1, 0, 0] 1\n",
      "[0, 1, 1, 0] 2\n",
      "[0, 1, 0, 0] 1\n",
      "[0, 1, 0, 0] 1\n",
      "[1, 1, 0, 0] 2\n",
      "[0, 1, 0, 0] 1\n",
      "[0, 1, 1, 0] 2\n",
      "[1, 1, 0, 0] 2\n",
      "[1, 1, 0, 0] 2\n",
      "[0, 1, 0, 0] 1\n",
      "[1, 1, 0, 0] 2\n",
      "[0, 1, 0, 0] 1\n",
      "[1, 1, 0, 0] 2\n",
      "[0, 1, 1, 0] 2\n",
      "[0, 1, 0, 0] 1\n",
      "[1, 1, 0, 0] 2\n",
      "[1, 1, 0, 0] 2\n",
      "[0, 1, 0, 0] 1\n",
      "[0, 1, 0, 0] 1\n",
      "[1, 1, 0, 0] 2\n",
      "[1, 1, 0, 0] 2\n",
      "[0, 1, 0, 0] 1\n",
      "[0, 1, 0, 0] 1\n",
      "[0, 1, 0, 0] 1\n",
      "[1, 1, 0, 0] 2\n",
      "[1, 0, 0, 0] 1\n",
      "[0, 1, 0, 0] 1\n",
      "[0, 1, 0, 0] 1\n",
      "[0, 1, 0, 0] 1\n",
      "[0, 1, 1, 0] 2\n",
      "[0, 1, 1, 0] 2\n",
      "[0, 1, 0, 0] 1\n",
      "[0, 1, 0, 0] 1\n",
      "[1, 1, 0, 0] 2\n",
      "[1, 1, 0, 0] 2\n",
      "[0, 1, 0, 0] 1\n",
      "[0, 1, 0, 0] 1\n",
      "[0, 1, 0, 0] 1\n",
      "[0, 1, 0, 0] 1\n",
      "[0, 1, 0, 0] 1\n",
      "[0, 1, 0, 0] 1\n",
      "[0, 1, 0, 0] 1\n",
      "[1, 1, 0, 0] 2\n",
      "[1, 0, 0, 0] 1\n",
      "[0, 1, 1, 0] 2\n",
      "[0, 1, 0, 0] 1\n",
      "[1, 1, 0, 0] 2\n",
      "[1, 1, 0, 0] 2\n",
      "[0, 0, 1, 0] 1\n",
      "[0, 1, 0, 0] 1\n",
      "[1, 1, 0, 0] 2\n",
      "[0, 1, 1, 0] 2\n",
      "Number of satisfied eq is:  2\n",
      "True\n",
      "[1.13718610e-01 7.97514187e-06 7.91449443e-03]\n"
     ]
    }
   ],
   "source": [
    "ga(100, 100, 10, 0.05, True, 19, \"tests/simple_test1.txt\")"
   ]
  },
  {
   "cell_type": "code",
   "execution_count": 20,
   "id": "outdoor-magazine",
   "metadata": {},
   "outputs": [
    {
     "name": "stderr",
     "output_type": "stream",
     "text": [
      "<ipython-input-2-66aea9309809>:26: OptimizeWarning: A_eq does not appear to be of full row rank. To improve performance, check the problem formulation for redundant equality constraints.\n",
      "  sol = linprog(c = c, A_eq=Atmp, b_eq= btmp)\n"
     ]
    },
    {
     "name": "stdout",
     "output_type": "stream",
     "text": [
      "[0, 0, 0, 0, 0, 0, 0, 1, 0, 1, 0, 0, 1, 0, 0, 0, 0, 0, 0, 1, 1, 0, 0, 0, 0] 5\n",
      "[1, 1, 0, 0, 0, 0, 0, 0, 0, 0, 0, 0, 0, 0, 0, 0, 0, 0, 0, 1, 1, 0, 0, 0, 0] 4\n",
      "[0, 0, 0, 1, 0, 0, 0, 0, 0, 0, 0, 0, 0, 0, 0, 0, 0, 0, 0, 0, 0, 1, 0, 0, 0] 2\n",
      "[0, 0, 0, 0, 0, 0, 0, 0, 0, 0, 0, 0, 0, 0, 1, 0, 0, 0, 1, 0, 0, 0, 0, 0, 0] 2\n",
      "[0, 0, 0, 1, 0, 0, 0, 0, 0, 0, 0, 0, 0, 0, 0, 0, 0, 0, 0, 0, 0, 1, 0, 0, 0] 2\n",
      "[1, 0, 0, 0, 0, 0, 0, 0, 0, 0, 0, 1, 0, 0, 0, 0, 0, 0, 0, 0, 0, 0, 1, 0, 0] 3\n",
      "[1, 0, 0, 0, 0, 0, 0, 1, 0, 0, 0, 0, 1, 0, 0, 0, 0, 0, 0, 0, 0, 0, 0, 0, 0] 3\n",
      "[0, 0, 0, 0, 0, 0, 0, 0, 0, 0, 1, 0, 1, 0, 0, 0, 0, 1, 0, 0, 0, 0, 1, 0, 0] 4\n",
      "[0, 0, 0, 1, 0, 0, 0, 0, 0, 0, 0, 0, 0, 0, 0, 1, 0, 0, 0, 0, 0, 0, 0, 0, 0] 2\n",
      "[0, 0, 0, 0, 0, 0, 0, 1, 0, 0, 0, 0, 0, 0, 0, 0, 0, 0, 0, 0, 0, 0, 1, 0, 0] 2\n",
      "[0, 0, 0, 1, 0, 0, 0, 0, 0, 1, 0, 0, 0, 0, 0, 0, 0, 0, 0, 0, 0, 0, 0, 0, 0] 2\n",
      "[1, 0, 0, 0, 0, 0, 0, 1, 0, 0, 0, 0, 1, 0, 0, 0, 0, 0, 0, 0, 0, 0, 0, 0, 0] 3\n",
      "[1, 0, 0, 0, 0, 0, 0, 1, 0, 0, 0, 0, 0, 0, 1, 0, 0, 0, 0, 0, 0, 0, 0, 0, 0] 3\n",
      "[0, 0, 0, 1, 0, 0, 0, 0, 0, 0, 0, 0, 1, 0, 0, 0, 0, 0, 0, 0, 0, 0, 1, 0, 0] 3\n",
      "[0, 0, 0, 0, 0, 0, 0, 0, 0, 0, 0, 0, 0, 0, 0, 0, 0, 0, 0, 1, 0, 0, 0, 0, 0] 1\n",
      "[0, 0, 0, 0, 0, 0, 0, 1, 0, 0, 0, 1, 0, 0, 0, 0, 0, 0, 0, 0, 0, 0, 0, 0, 0] 2\n",
      "[0, 0, 0, 0, 0, 0, 0, 0, 0, 0, 0, 0, 0, 0, 1, 0, 0, 0, 1, 0, 0, 0, 0, 0, 0] 2\n",
      "[0, 0, 0, 0, 0, 0, 0, 0, 0, 0, 0, 1, 0, 0, 0, 0, 0, 0, 0, 0, 0, 0, 0, 0, 0] 1\n",
      "[0, 0, 0, 0, 0, 0, 0, 1, 0, 0, 1, 0, 0, 0, 0, 0, 0, 0, 0, 0, 1, 0, 1, 0, 0] 4\n",
      "[0, 0, 0, 0, 0, 0, 0, 0, 0, 0, 1, 0, 1, 0, 0, 0, 0, 1, 0, 0, 0, 0, 1, 0, 0] 4\n",
      "[0, 0, 0, 1, 0, 0, 0, 0, 0, 0, 0, 0, 0, 0, 0, 1, 0, 0, 0, 0, 0, 0, 0, 0, 0] 2\n",
      "[0, 0, 0, 0, 0, 1, 0, 1, 0, 0, 0, 0, 1, 0, 0, 0, 0, 0, 0, 0, 1, 0, 0, 0, 0] 4\n",
      "[1, 0, 0, 0, 0, 0, 0, 0, 0, 0, 0, 1, 0, 0, 0, 0, 0, 0, 0, 0, 0, 0, 1, 0, 0] 3\n",
      "[0, 0, 0, 1, 0, 0, 0, 1, 0, 0, 0, 0, 0, 1, 0, 0, 0, 0, 0, 1, 0, 0, 1, 0, 0] 5\n",
      "[0, 0, 0, 0, 0, 0, 0, 0, 0, 0, 0, 0, 0, 0, 1, 0, 0, 1, 0, 0, 1, 0, 1, 0, 0] 4\n",
      "[0, 0, 0, 1, 0, 0, 0, 0, 0, 0, 0, 0, 0, 0, 0, 0, 0, 0, 0, 0, 0, 1, 0, 0, 0] 2\n",
      "[1, 0, 0, 0, 0, 0, 0, 0, 0, 0, 0, 1, 0, 0, 0, 0, 0, 0, 0, 0, 0, 0, 1, 0, 0] 3\n",
      "[1, 0, 0, 0, 0, 0, 0, 0, 0, 1, 0, 0, 0, 0, 0, 0, 0, 1, 0, 0, 1, 0, 0, 0, 0] 4\n",
      "[0, 0, 0, 0, 0, 0, 1, 0, 0, 0, 0, 0, 0, 0, 0, 0, 0, 1, 0, 0, 0, 0, 0, 0, 0] 2\n",
      "[0, 0, 0, 1, 0, 0, 0, 0, 0, 0, 0, 0, 1, 0, 0, 1, 0, 1, 0, 0, 0, 0, 1, 0, 0] 5\n",
      "[0, 0, 0, 0, 0, 0, 0, 1, 0, 0, 0, 0, 0, 0, 0, 0, 0, 0, 0, 1, 0, 0, 0, 0, 0] 2\n",
      "[1, 0, 0, 0, 0, 0, 0, 0, 0, 0, 0, 1, 0, 0, 0, 0, 0, 0, 0, 0, 0, 0, 1, 0, 0] 3\n",
      "[0, 0, 0, 0, 0, 0, 0, 0, 0, 0, 0, 0, 0, 0, 0, 0, 0, 0, 0, 1, 0, 0, 1, 0, 0] 2\n",
      "[0, 0, 0, 0, 0, 0, 0, 0, 0, 0, 0, 0, 1, 0, 0, 0, 0, 0, 0, 1, 0, 0, 0, 0, 0] 2\n",
      "[1, 0, 0, 0, 0, 0, 0, 1, 0, 0, 0, 0, 0, 0, 0, 0, 0, 0, 0, 0, 1, 0, 0, 0, 0] 3\n",
      "[1, 0, 0, 0, 0, 0, 0, 0, 0, 0, 0, 0, 0, 0, 0, 0, 0, 0, 0, 1, 0, 0, 0, 0, 0] 2\n",
      "[1, 0, 0, 1, 0, 0, 0, 0, 0, 0, 0, 0, 0, 0, 0, 0, 0, 0, 0, 0, 0, 1, 0, 0, 0] 3\n",
      "[1, 1, 0, 0, 0, 0, 0, 0, 0, 0, 0, 0, 0, 0, 0, 0, 0, 0, 0, 1, 1, 0, 0, 0, 0] 4\n",
      "[0, 1, 0, 0, 0, 0, 0, 1, 0, 0, 0, 0, 0, 0, 0, 0, 0, 0, 0, 0, 0, 0, 0, 0, 0] 2\n",
      "[1, 0, 0, 0, 0, 0, 0, 0, 0, 0, 0, 1, 0, 0, 0, 0, 0, 0, 0, 0, 1, 0, 0, 0, 0] 3\n",
      "[1, 0, 0, 1, 0, 0, 0, 0, 0, 1, 0, 0, 0, 0, 0, 0, 0, 0, 0, 0, 0, 0, 0, 0, 0] 3\n",
      "[1, 0, 0, 0, 0, 0, 0, 0, 0, 0, 0, 0, 0, 0, 0, 0, 0, 0, 0, 0, 0, 0, 1, 0, 0] 2\n",
      "[0, 0, 0, 0, 0, 0, 0, 1, 0, 0, 0, 0, 0, 0, 0, 0, 0, 0, 0, 1, 0, 0, 1, 0, 0] 3\n",
      "[0, 0, 0, 0, 0, 0, 0, 0, 0, 0, 0, 0, 0, 0, 1, 0, 0, 0, 1, 0, 0, 1, 0, 0, 0] 3\n",
      "Number of satisfied eq is:  5\n",
      "True\n",
      "[0.4126614  0.09173557 0.62753841 0.67193104 0.16520745]\n"
     ]
    }
   ],
   "source": [
    "ga(100, iters, 10, 0.05, True, 19, \"tests/25x5.txt\")"
   ]
  },
  {
   "cell_type": "code",
   "execution_count": null,
   "id": "separate-paradise",
   "metadata": {},
   "outputs": [],
   "source": [
    "ga(100, iters, 10, 0.05, True, 19, \"tests/25x5.txt\")"
   ]
  },
  {
   "cell_type": "code",
   "execution_count": 2,
   "id": "neural-aircraft",
   "metadata": {},
   "outputs": [
    {
     "ename": "NameError",
     "evalue": "name 'ga' is not defined",
     "output_type": "error",
     "traceback": [
      "\u001b[0;31m---------------------------------------------------------------------------\u001b[0m",
      "\u001b[0;31mNameError\u001b[0m                                 Traceback (most recent call last)",
      "\u001b[0;32m<ipython-input-2-c5d53ca4b04d>\u001b[0m in \u001b[0;36m<module>\u001b[0;34m\u001b[0m\n\u001b[0;32m----> 1\u001b[0;31m \u001b[0mga\u001b[0m\u001b[0;34m(\u001b[0m\u001b[0;36m100\u001b[0m\u001b[0;34m,\u001b[0m \u001b[0miters\u001b[0m\u001b[0;34m,\u001b[0m \u001b[0;36m10\u001b[0m\u001b[0;34m,\u001b[0m \u001b[0;36m0.05\u001b[0m\u001b[0;34m,\u001b[0m \u001b[0;32mTrue\u001b[0m\u001b[0;34m,\u001b[0m \u001b[0;36m19\u001b[0m\u001b[0;34m,\u001b[0m \u001b[0;34m\"tests/35x4.txt\"\u001b[0m\u001b[0;34m)\u001b[0m\u001b[0;34m\u001b[0m\u001b[0;34m\u001b[0m\u001b[0m\n\u001b[0m",
      "\u001b[0;31mNameError\u001b[0m: name 'ga' is not defined"
     ]
    }
   ],
   "source": [
    "ga(100, iters, 10, 0.05, True, 19, \"tests/35x4.txt\")"
   ]
  },
  {
   "cell_type": "code",
   "execution_count": null,
   "id": "underlying-peoples",
   "metadata": {},
   "outputs": [],
   "source": []
  }
 ],
 "metadata": {
  "kernelspec": {
   "display_name": "Python 3",
   "language": "python",
   "name": "python3"
  },
  "language_info": {
   "codemirror_mode": {
    "name": "ipython",
    "version": 3
   },
   "file_extension": ".py",
   "mimetype": "text/x-python",
   "name": "python",
   "nbconvert_exporter": "python",
   "pygments_lexer": "ipython3",
   "version": "3.8.10"
  }
 },
 "nbformat": 4,
 "nbformat_minor": 5
}

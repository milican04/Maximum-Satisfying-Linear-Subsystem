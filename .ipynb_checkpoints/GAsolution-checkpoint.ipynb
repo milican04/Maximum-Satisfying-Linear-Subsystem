{
 "cells": [
  {
   "cell_type": "markdown",
   "id": "stylish-cattle",
   "metadata": {},
   "source": [
    "# MSLS problem solution via genetic algorithm "
   ]
  },
  {
   "cell_type": "code",
   "execution_count": 1,
   "id": "experimental-green",
   "metadata": {},
   "outputs": [],
   "source": [
    "import random\n",
    "import copy\n",
    "import numpy as np\n",
    "from scipy.optimize import linprog\n",
    "import os\n",
    "import matplotlib.pyplot as plt\n",
    "import numpy as np"
   ]
  },
  {
   "cell_type": "code",
   "execution_count": 2,
   "id": "fossil-seminar",
   "metadata": {},
   "outputs": [],
   "source": [
    "import warnings\n",
    "warnings.filterwarnings('ignore')"
   ]
  },
  {
   "cell_type": "code",
   "execution_count": 33,
   "id": "legitimate-martial",
   "metadata": {},
   "outputs": [],
   "source": [
    "class Individual:\n",
    "    def __init__(self, numOfEqs, A, b):\n",
    "        self.numOfEqs = len(A)\n",
    "        self.numOfVar = len(A[0])\n",
    "        \n",
    "        self.code = [0 for i in range(self.numOfEqs)]\n",
    "        \n",
    "        chosen = random.sample(list(range(0, self.numOfEqs)), min(self.numOfVar, self.numOfEqs))\n",
    "        \n",
    "        for i in chosen:\n",
    "            self.code[i] = 1\n",
    "        self.calcFitness(A, b)\n",
    "            \n",
    "    def calcFitness(self, A, b):\n",
    "        Atmp, btmp = [], []\n",
    "        for i in range(self.numOfEqs):\n",
    "            if self.code[i] == 1:\n",
    "                Atmp.append(A[i])\n",
    "                btmp.append(b[i])\n",
    "                \n",
    "        if Atmp == []:\n",
    "            self.fitness, self.x = float('inf'), None\n",
    "            return\n",
    "        \n",
    "        c = np.zeros(shape=(len(Atmp[0]), 1))\n",
    "        sol = linprog(c = c, A_eq=Atmp, b_eq= btmp, method='simplex')\n",
    "        \n",
    "        if sol.success:\n",
    "            self.fitness, self.x = 0, sol.x\n",
    "            return\n",
    "        \n",
    "        self.fitness, self.x = sum(self.code)/self.numOfVar, None \n",
    "        \n",
    "        \n",
    "#         x = sol.x\n",
    "#         errors = [(sum(Atmp[i] * x) - btmp[i])**2 for i in range(len(btmp))]\n",
    "#         err = sum(errors)\n",
    "\n",
    "        \n",
    "            \n",
    "    def __eq__(self, other):\n",
    "        if self.fitness == other.fitness and sum(self.code) == sum(other.code):\n",
    "            return True\n",
    "        return False\n",
    "    \n",
    "    def __gt__(self, other):\n",
    "        if (self.fitness < other.fitness) or (self.fitness == other.fitness and sum(self.code) > sum(other.code)):\n",
    "                return True\n",
    "        return False\n",
    "    \n",
    "    def __lt__(self, other):\n",
    "        if not self.__gt__(other) and not self.__eq__(other):\n",
    "            return True\n",
    "        return False\n",
    "    "
   ]
  },
  {
   "cell_type": "code",
   "execution_count": 34,
   "id": "matched-event",
   "metadata": {},
   "outputs": [],
   "source": [
    "def readFile(filename):\n",
    "    if filename.endswith('.txt'):\n",
    "        with open(filename, 'r') as f:\n",
    "            A, b = [], []\n",
    "            for line in f:\n",
    "                eq = []\n",
    "                for num in line.split():\n",
    "                    eq.append(int(num))\n",
    "                A.append(eq[:-1])\n",
    "                b.append(eq[-1])\n",
    "    else:\n",
    "        raise Exception(\"We need .txt file :)\")\n",
    "    return A, b"
   ]
  },
  {
   "cell_type": "code",
   "execution_count": 35,
   "id": "hollywood-military",
   "metadata": {},
   "outputs": [],
   "source": [
    "def selection(population, tournamentSize, forbidden):\n",
    "    allowed = list(set(range(len(population))).difference({forbidden}))\n",
    "    chosen = random.sample(allowed, tournamentSize)\n",
    "    best = population[chosen[0]]\n",
    "    best_i = 0\n",
    "    for i in chosen:\n",
    "        if population[i] > best:\n",
    "            best = population[i]\n",
    "            best_i =i\n",
    "    return best, best_i"
   ]
  },
  {
   "cell_type": "code",
   "execution_count": 36,
   "id": "cleared-parks",
   "metadata": {},
   "outputs": [],
   "source": [
    "def mutation(child, mutation_prob):\n",
    "    for i in range(len(child.code)):\n",
    "        if random.random() < mutation_prob:\n",
    "            child.code[i] = child.code[i] ^ 1"
   ]
  },
  {
   "cell_type": "code",
   "execution_count": 37,
   "id": "outdoor-amino",
   "metadata": {},
   "outputs": [],
   "source": [
    "def crossover(parent1, parent2, child1, child2):\n",
    "    pos = random.randrange(1, len(parent1.code))\n",
    "   \n",
    "    child1.code = max(parent1, parent2).code\n",
    "    child2.code[:pos] = parent2.code[:pos]\n",
    "    child2.code[pos:] = parent1.code[pos:]"
   ]
  },
  {
   "cell_type": "code",
   "execution_count": 38,
   "id": "metallic-fishing",
   "metadata": {},
   "outputs": [],
   "source": [
    "def ga(pop_size, num_iters, tournamentSize, mutation_prob, use_elitism, elitism_size, filePath):\n",
    "    print(\"-----------------------------------------------------------------\")\n",
    "    print(\"FILE: \", filePath)\n",
    "    print(\"WORKING ON IT ...\")\n",
    "    if use_elitism and (pop_size - elitism_size) % 2 == 1:\n",
    "        elitism_size += 1\n",
    "  \n",
    "    A, b = readFile(filePath)\n",
    "    n = len(b)\n",
    "    \n",
    "    population = [Individual(n, A, b) for _ in range(pop_size)]\n",
    "    new_population = [Individual(n, A, b) for _ in range(pop_size)]\n",
    "    best_individual = None\n",
    "    avgFitness = []\n",
    "    for _ in range(num_iters):\n",
    "#         avgFitness.append(sum([i.fitness for i in population]) / pop_size)\n",
    "        \n",
    "        if use_elitism:\n",
    "                \n",
    "            population.sort(reverse=True)\n",
    "                \n",
    "            new_population[:elitism_size] = population[:elitism_size]\n",
    "            \n",
    "        best_individual = max(population[:])  \n",
    "        for i in range(elitism_size, pop_size, 2):\n",
    "            parent1, parent1_idx = selection(population, tournamentSize, None)\n",
    "            parent2, _ = selection(population, tournamentSize, parent1_idx)\n",
    "            \n",
    "            crossover(parent1,\n",
    "                      parent2,\n",
    "                      new_population[i],\n",
    "                      new_population[i+1])\n",
    "            mutation(new_population[i], mutation_prob)\n",
    "            mutation(new_population[i+1], mutation_prob)\n",
    "            \n",
    "            new_population[i].calcFitness(A, b)\n",
    "            new_population[i+1].calcFitness(A, b)\n",
    "        \n",
    "        population[:] = new_population[:]\n",
    "         \n",
    "        avgFitness.append(best_individual.fitness)\n",
    "            \n",
    "    best_individual = max(population[:])\n",
    "    print(\"Number of satisfied eq is: \", sum(best_individual.code))\n",
    "    print(\"Fitness: \", best_individual.fitness)\n",
    "    print(\"Solution x: \", best_individual.x)\n",
    "    plt.plot([i for i in range(0, num_iters)], avgFitness)\n",
    "    plt.show()\n",
    "    print(\"-----------------------------------------------------------------\")"
   ]
  },
  {
   "cell_type": "code",
   "execution_count": 39,
   "id": "normal-setting",
   "metadata": {},
   "outputs": [
    {
     "name": "stdout",
     "output_type": "stream",
     "text": [
      "-----------------------------------------------------------------\n",
      "FILE:  tests/25x5.txt\n",
      "WORKING ON IT ...\n",
      "Number of satisfied eq is:  14\n",
      "Fitness:  0\n",
      "Solution x:  [0.15920156 0.27806881 1.38284339 1.25657625 0.3446043 ]\n"
     ]
    },
    {
     "data": {
      "image/png": "[encoded data removed]",
      "text/plain": [
       "<Figure size 432x288 with 1 Axes>"
      ]
     },
     "metadata": {
      "needs_background": "light"
     },
     "output_type": "display_data"
    },
    {
     "name": "stdout",
     "output_type": "stream",
     "text": [
      "-----------------------------------------------------------------\n"
     ]
    }
   ],
   "source": [
    " ga(100, 200, 10, 0.06, True, 5, 'tests/25x5.txt')"
   ]
  },
  {
   "cell_type": "markdown",
   "id": "future-spine",
   "metadata": {},
   "source": [
    "# Reading in test data:"
   ]
  },
  {
   "cell_type": "code",
   "execution_count": 83,
   "id": "statutory-lawyer",
   "metadata": {},
   "outputs": [],
   "source": [
    "def getFiles(dir_path):\n",
    "    fileNames = []\n",
    "\n",
    "    for file_path in os.listdir(dir_path):\n",
    "        if os.path.isfile(os.path.join(dir_path, file_path)):\n",
    "            fileNames.append(dir_path + '/' + file_path)\n",
    "    return fileNames"
   ]
  },
  {
   "cell_type": "markdown",
   "id": "multiple-motor",
   "metadata": {},
   "source": [
    "# Small tests"
   ]
  },
  {
   "cell_type": "code",
   "execution_count": 84,
   "id": "organic-water",
   "metadata": {},
   "outputs": [],
   "source": [
    "iters = 200"
   ]
  },
  {
   "cell_type": "code",
   "execution_count": 85,
   "id": "lasting-sapphire",
   "metadata": {},
   "outputs": [
    {
     "name": "stdout",
     "output_type": "stream",
     "text": [
      "-----------------------------------------------------------------\n",
      "FILE:  tests/25x5.txt\n",
      "WORKING ON IT ...\n",
      "Number of satisfied eq is:  11\n",
      "Fitness:  0.0\n",
      "Solution x:  [0.         0.         0.         0.21520696 0.22321024]\n",
      "-----------------------------------------------------------------\n",
      "-----------------------------------------------------------------\n",
      "FILE:  tests/99x10.txt\n",
      "WORKING ON IT ...\n"
     ]
    },
    {
     "ename": "KeyboardInterrupt",
     "evalue": "",
     "output_type": "error",
     "traceback": [
      "\u001b[0;31m---------------------------------------------------------------------------\u001b[0m",
      "\u001b[0;31mKeyboardInterrupt\u001b[0m                         Traceback (most recent call last)",
      "\u001b[0;32m<ipython-input-85-50256e4740c5>\u001b[0m in \u001b[0;36m<module>\u001b[0;34m\u001b[0m\n\u001b[1;32m      1\u001b[0m \u001b[0mfileNames\u001b[0m \u001b[0;34m=\u001b[0m \u001b[0mgetFiles\u001b[0m\u001b[0;34m(\u001b[0m\u001b[0;34m'tests'\u001b[0m\u001b[0;34m)\u001b[0m\u001b[0;34m\u001b[0m\u001b[0;34m\u001b[0m\u001b[0m\n\u001b[1;32m      2\u001b[0m \u001b[0;32mfor\u001b[0m \u001b[0mfileName\u001b[0m \u001b[0;32min\u001b[0m \u001b[0mfileNames\u001b[0m\u001b[0;34m:\u001b[0m\u001b[0;34m\u001b[0m\u001b[0;34m\u001b[0m\u001b[0m\n\u001b[0;32m----> 3\u001b[0;31m     \u001b[0mga\u001b[0m\u001b[0;34m(\u001b[0m\u001b[0;36m100\u001b[0m\u001b[0;34m,\u001b[0m \u001b[0miters\u001b[0m\u001b[0;34m,\u001b[0m \u001b[0;36m10\u001b[0m\u001b[0;34m,\u001b[0m \u001b[0;36m0.05\u001b[0m\u001b[0;34m,\u001b[0m \u001b[0;32mTrue\u001b[0m\u001b[0;34m,\u001b[0m \u001b[0;36m5\u001b[0m\u001b[0;34m,\u001b[0m \u001b[0mfileName\u001b[0m\u001b[0;34m)\u001b[0m\u001b[0;34m\u001b[0m\u001b[0;34m\u001b[0m\u001b[0m\n\u001b[0m",
      "\u001b[0;32m<ipython-input-82-a5f02bcf9a8f>\u001b[0m in \u001b[0;36mga\u001b[0;34m(pop_size, num_iters, tournamentSize, mutation_prob, use_elitism, elitism_size, filePath)\u001b[0m\n\u001b[1;32m     32\u001b[0m             \u001b[0mmutation\u001b[0m\u001b[0;34m(\u001b[0m\u001b[0mnew_population\u001b[0m\u001b[0;34m[\u001b[0m\u001b[0mi\u001b[0m\u001b[0;34m+\u001b[0m\u001b[0;36m1\u001b[0m\u001b[0;34m]\u001b[0m\u001b[0;34m,\u001b[0m \u001b[0mmutation_prob\u001b[0m\u001b[0;34m)\u001b[0m\u001b[0;34m\u001b[0m\u001b[0;34m\u001b[0m\u001b[0m\n\u001b[1;32m     33\u001b[0m \u001b[0;34m\u001b[0m\u001b[0m\n\u001b[0;32m---> 34\u001b[0;31m             \u001b[0mnew_population\u001b[0m\u001b[0;34m[\u001b[0m\u001b[0mi\u001b[0m\u001b[0;34m]\u001b[0m\u001b[0;34m.\u001b[0m\u001b[0mcalcFitness\u001b[0m\u001b[0;34m(\u001b[0m\u001b[0mA\u001b[0m\u001b[0;34m,\u001b[0m \u001b[0mb\u001b[0m\u001b[0;34m)\u001b[0m\u001b[0;34m\u001b[0m\u001b[0;34m\u001b[0m\u001b[0m\n\u001b[0m\u001b[1;32m     35\u001b[0m             \u001b[0mnew_population\u001b[0m\u001b[0;34m[\u001b[0m\u001b[0mi\u001b[0m\u001b[0;34m+\u001b[0m\u001b[0;36m1\u001b[0m\u001b[0;34m]\u001b[0m\u001b[0;34m.\u001b[0m\u001b[0mcalcFitness\u001b[0m\u001b[0;34m(\u001b[0m\u001b[0mA\u001b[0m\u001b[0;34m,\u001b[0m \u001b[0mb\u001b[0m\u001b[0;34m)\u001b[0m\u001b[0;34m\u001b[0m\u001b[0;34m\u001b[0m\u001b[0m\n\u001b[1;32m     36\u001b[0m \u001b[0;34m\u001b[0m\u001b[0m\n",
      "\u001b[0;32m<ipython-input-64-8e460f96399a>\u001b[0m in \u001b[0;36mcalcFitness\u001b[0;34m(self, A, b)\u001b[0m\n\u001b[1;32m     24\u001b[0m \u001b[0;34m\u001b[0m\u001b[0m\n\u001b[1;32m     25\u001b[0m         \u001b[0mc\u001b[0m \u001b[0;34m=\u001b[0m \u001b[0mnp\u001b[0m\u001b[0;34m.\u001b[0m\u001b[0mzeros\u001b[0m\u001b[0;34m(\u001b[0m\u001b[0mshape\u001b[0m\u001b[0;34m=\u001b[0m\u001b[0;34m(\u001b[0m\u001b[0mlen\u001b[0m\u001b[0;34m(\u001b[0m\u001b[0mAtmp\u001b[0m\u001b[0;34m[\u001b[0m\u001b[0;36m0\u001b[0m\u001b[0;34m]\u001b[0m\u001b[0;34m)\u001b[0m\u001b[0;34m,\u001b[0m \u001b[0;36m1\u001b[0m\u001b[0;34m)\u001b[0m\u001b[0;34m)\u001b[0m\u001b[0;34m\u001b[0m\u001b[0;34m\u001b[0m\u001b[0m\n\u001b[0;32m---> 26\u001b[0;31m         \u001b[0msol\u001b[0m \u001b[0;34m=\u001b[0m \u001b[0mlinprog\u001b[0m\u001b[0;34m(\u001b[0m\u001b[0mc\u001b[0m \u001b[0;34m=\u001b[0m \u001b[0mc\u001b[0m\u001b[0;34m,\u001b[0m \u001b[0mA_eq\u001b[0m\u001b[0;34m=\u001b[0m\u001b[0mAtmp\u001b[0m\u001b[0;34m,\u001b[0m \u001b[0mb_eq\u001b[0m\u001b[0;34m=\u001b[0m \u001b[0mbtmp\u001b[0m\u001b[0;34m,\u001b[0m \u001b[0mmethod\u001b[0m\u001b[0;34m=\u001b[0m\u001b[0;34m'simplex'\u001b[0m\u001b[0;34m)\u001b[0m\u001b[0;34m\u001b[0m\u001b[0;34m\u001b[0m\u001b[0m\n\u001b[0m\u001b[1;32m     27\u001b[0m \u001b[0;34m\u001b[0m\u001b[0m\n\u001b[1;32m     28\u001b[0m         \u001b[0mx\u001b[0m \u001b[0;34m=\u001b[0m \u001b[0msol\u001b[0m\u001b[0;34m.\u001b[0m\u001b[0mx\u001b[0m\u001b[0;34m\u001b[0m\u001b[0;34m\u001b[0m\u001b[0m\n",
      "\u001b[0;32m~/.local/lib/python3.8/site-packages/scipy/optimize/_linprog.py\u001b[0m in \u001b[0;36mlinprog\u001b[0;34m(c, A_ub, b_ub, A_eq, b_eq, bounds, method, callback, options, x0)\u001b[0m\n\u001b[1;32m    622\u001b[0m     \u001b[0mc0\u001b[0m \u001b[0;34m=\u001b[0m \u001b[0;36m0\u001b[0m  \u001b[0;31m# we might get a constant term in the objective\u001b[0m\u001b[0;34m\u001b[0m\u001b[0;34m\u001b[0m\u001b[0m\n\u001b[1;32m    623\u001b[0m     \u001b[0;32mif\u001b[0m \u001b[0msolver_options\u001b[0m\u001b[0;34m.\u001b[0m\u001b[0mpop\u001b[0m\u001b[0;34m(\u001b[0m\u001b[0;34m'presolve'\u001b[0m\u001b[0;34m,\u001b[0m \u001b[0;32mTrue\u001b[0m\u001b[0;34m)\u001b[0m\u001b[0;34m:\u001b[0m\u001b[0;34m\u001b[0m\u001b[0;34m\u001b[0m\u001b[0m\n\u001b[0;32m--> 624\u001b[0;31m         (lp, c0, x, undo, complete, status, message) = _presolve(lp, rr,\n\u001b[0m\u001b[1;32m    625\u001b[0m                                                                  \u001b[0mrr_method\u001b[0m\u001b[0;34m,\u001b[0m\u001b[0;34m\u001b[0m\u001b[0;34m\u001b[0m\u001b[0m\n\u001b[1;32m    626\u001b[0m                                                                  tol)\n",
      "\u001b[0;32m~/.local/lib/python3.8/site-packages/scipy/optimize/_linprog_util.py\u001b[0m in \u001b[0;36m_presolve\u001b[0;34m(lp, rr, rr_method, tol)\u001b[0m\n\u001b[1;32m    852\u001b[0m     \u001b[0;32mif\u001b[0m \u001b[0mrr\u001b[0m \u001b[0;32mand\u001b[0m \u001b[0mA_eq\u001b[0m\u001b[0;34m.\u001b[0m\u001b[0msize\u001b[0m \u001b[0;34m>\u001b[0m \u001b[0;36m0\u001b[0m\u001b[0;34m:\u001b[0m\u001b[0;34m\u001b[0m\u001b[0;34m\u001b[0m\u001b[0m\n\u001b[1;32m    853\u001b[0m         \u001b[0;32mtry\u001b[0m\u001b[0;34m:\u001b[0m  \u001b[0;31m# TODO: use results of first SVD in _remove_redundancy_svd\u001b[0m\u001b[0;34m\u001b[0m\u001b[0;34m\u001b[0m\u001b[0m\n\u001b[0;32m--> 854\u001b[0;31m             \u001b[0mrank\u001b[0m \u001b[0;34m=\u001b[0m \u001b[0mnp\u001b[0m\u001b[0;34m.\u001b[0m\u001b[0mlinalg\u001b[0m\u001b[0;34m.\u001b[0m\u001b[0mmatrix_rank\u001b[0m\u001b[0;34m(\u001b[0m\u001b[0mA_eq\u001b[0m\u001b[0;34m)\u001b[0m\u001b[0;34m\u001b[0m\u001b[0;34m\u001b[0m\u001b[0m\n\u001b[0m\u001b[1;32m    855\u001b[0m         \u001b[0;31m# oh well, we'll have to go with _remove_redundancy_pivot_dense\u001b[0m\u001b[0;34m\u001b[0m\u001b[0;34m\u001b[0m\u001b[0;34m\u001b[0m\u001b[0m\n\u001b[1;32m    856\u001b[0m         \u001b[0;32mexcept\u001b[0m \u001b[0mException\u001b[0m\u001b[0;34m:\u001b[0m\u001b[0;34m\u001b[0m\u001b[0;34m\u001b[0m\u001b[0m\n",
      "\u001b[0;32m~/.local/lib/python3.8/site-packages/numpy/core/overrides.py\u001b[0m in \u001b[0;36mmatrix_rank\u001b[0;34m(*args, **kwargs)\u001b[0m\n",
      "\u001b[0;32m~/.local/lib/python3.8/site-packages/numpy/linalg/linalg.py\u001b[0m in \u001b[0;36mmatrix_rank\u001b[0;34m(A, tol, hermitian)\u001b[0m\n\u001b[1;32m   1892\u001b[0m     \u001b[0;32melse\u001b[0m\u001b[0;34m:\u001b[0m\u001b[0;34m\u001b[0m\u001b[0;34m\u001b[0m\u001b[0m\n\u001b[1;32m   1893\u001b[0m         \u001b[0mtol\u001b[0m \u001b[0;34m=\u001b[0m \u001b[0masarray\u001b[0m\u001b[0;34m(\u001b[0m\u001b[0mtol\u001b[0m\u001b[0;34m)\u001b[0m\u001b[0;34m[\u001b[0m\u001b[0;34m...\u001b[0m\u001b[0;34m,\u001b[0m \u001b[0mnewaxis\u001b[0m\u001b[0;34m]\u001b[0m\u001b[0;34m\u001b[0m\u001b[0;34m\u001b[0m\u001b[0m\n\u001b[0;32m-> 1894\u001b[0;31m     \u001b[0;32mreturn\u001b[0m \u001b[0mcount_nonzero\u001b[0m\u001b[0;34m(\u001b[0m\u001b[0mS\u001b[0m \u001b[0;34m>\u001b[0m \u001b[0mtol\u001b[0m\u001b[0;34m,\u001b[0m \u001b[0maxis\u001b[0m\u001b[0;34m=\u001b[0m\u001b[0;34m-\u001b[0m\u001b[0;36m1\u001b[0m\u001b[0;34m)\u001b[0m\u001b[0;34m\u001b[0m\u001b[0;34m\u001b[0m\u001b[0m\n\u001b[0m\u001b[1;32m   1895\u001b[0m \u001b[0;34m\u001b[0m\u001b[0m\n\u001b[1;32m   1896\u001b[0m \u001b[0;34m\u001b[0m\u001b[0m\n",
      "\u001b[0;32m~/.local/lib/python3.8/site-packages/numpy/core/overrides.py\u001b[0m in \u001b[0;36mcount_nonzero\u001b[0;34m(*args, **kwargs)\u001b[0m\n",
      "\u001b[0;32m~/.local/lib/python3.8/site-packages/numpy/core/numeric.py\u001b[0m in \u001b[0;36mcount_nonzero\u001b[0;34m(a, axis, keepdims)\u001b[0m\n\u001b[1;32m    489\u001b[0m \u001b[0;34m\u001b[0m\u001b[0m\n\u001b[1;32m    490\u001b[0m     \u001b[0;31m# TODO: this works around .astype(bool) not working properly (gh-9847)\u001b[0m\u001b[0;34m\u001b[0m\u001b[0;34m\u001b[0m\u001b[0;34m\u001b[0m\u001b[0m\n\u001b[0;32m--> 491\u001b[0;31m     \u001b[0;32mif\u001b[0m \u001b[0mnp\u001b[0m\u001b[0;34m.\u001b[0m\u001b[0missubdtype\u001b[0m\u001b[0;34m(\u001b[0m\u001b[0ma\u001b[0m\u001b[0;34m.\u001b[0m\u001b[0mdtype\u001b[0m\u001b[0;34m,\u001b[0m \u001b[0mnp\u001b[0m\u001b[0;34m.\u001b[0m\u001b[0mcharacter\u001b[0m\u001b[0;34m)\u001b[0m\u001b[0;34m:\u001b[0m\u001b[0;34m\u001b[0m\u001b[0;34m\u001b[0m\u001b[0m\n\u001b[0m\u001b[1;32m    492\u001b[0m         \u001b[0ma_bool\u001b[0m \u001b[0;34m=\u001b[0m \u001b[0ma\u001b[0m \u001b[0;34m!=\u001b[0m \u001b[0ma\u001b[0m\u001b[0;34m.\u001b[0m\u001b[0mdtype\u001b[0m\u001b[0;34m.\u001b[0m\u001b[0mtype\u001b[0m\u001b[0;34m(\u001b[0m\u001b[0;34m)\u001b[0m\u001b[0;34m\u001b[0m\u001b[0;34m\u001b[0m\u001b[0m\n\u001b[1;32m    493\u001b[0m     \u001b[0;32melse\u001b[0m\u001b[0;34m:\u001b[0m\u001b[0;34m\u001b[0m\u001b[0;34m\u001b[0m\u001b[0m\n",
      "\u001b[0;32m~/.local/lib/python3.8/site-packages/numpy/core/numerictypes.py\u001b[0m in \u001b[0;36missubdtype\u001b[0;34m(arg1, arg2)\u001b[0m\n\u001b[1;32m    414\u001b[0m     \"\"\"\n\u001b[1;32m    415\u001b[0m     \u001b[0;32mif\u001b[0m \u001b[0;32mnot\u001b[0m \u001b[0missubclass_\u001b[0m\u001b[0;34m(\u001b[0m\u001b[0marg1\u001b[0m\u001b[0;34m,\u001b[0m \u001b[0mgeneric\u001b[0m\u001b[0;34m)\u001b[0m\u001b[0;34m:\u001b[0m\u001b[0;34m\u001b[0m\u001b[0;34m\u001b[0m\u001b[0m\n\u001b[0;32m--> 416\u001b[0;31m         \u001b[0marg1\u001b[0m \u001b[0;34m=\u001b[0m \u001b[0mdtype\u001b[0m\u001b[0;34m(\u001b[0m\u001b[0marg1\u001b[0m\u001b[0;34m)\u001b[0m\u001b[0;34m.\u001b[0m\u001b[0mtype\u001b[0m\u001b[0;34m\u001b[0m\u001b[0;34m\u001b[0m\u001b[0m\n\u001b[0m\u001b[1;32m    417\u001b[0m     \u001b[0;32mif\u001b[0m \u001b[0;32mnot\u001b[0m \u001b[0missubclass_\u001b[0m\u001b[0;34m(\u001b[0m\u001b[0marg2\u001b[0m\u001b[0;34m,\u001b[0m \u001b[0mgeneric\u001b[0m\u001b[0;34m)\u001b[0m\u001b[0;34m:\u001b[0m\u001b[0;34m\u001b[0m\u001b[0;34m\u001b[0m\u001b[0m\n\u001b[1;32m    418\u001b[0m         \u001b[0marg2\u001b[0m \u001b[0;34m=\u001b[0m \u001b[0mdtype\u001b[0m\u001b[0;34m(\u001b[0m\u001b[0marg2\u001b[0m\u001b[0;34m)\u001b[0m\u001b[0;34m.\u001b[0m\u001b[0mtype\u001b[0m\u001b[0;34m\u001b[0m\u001b[0;34m\u001b[0m\u001b[0m\n",
      "\u001b[0;31mKeyboardInterrupt\u001b[0m: "
     ]
    }
   ],
   "source": [
    "fileNames = getFiles('tests')\n",
    "for fileName in fileNames:\n",
    "    ga(100, iters, 10, 0.06, True, 5, fileName)"
   ]
  },
  {
   "cell_type": "code",
   "execution_count": null,
   "id": "underlying-peoples",
   "metadata": {},
   "outputs": [],
   "source": []
  }
 ],
 "metadata": {
  "kernelspec": {
   "display_name": "Python 3",
   "language": "python",
   "name": "python3"
  },
  "language_info": {
   "codemirror_mode": {
    "name": "ipython",
    "version": 3
   },
   "file_extension": ".py",
   "mimetype": "text/x-python",
   "name": "python",
   "nbconvert_exporter": "python",
   "pygments_lexer": "ipython3",
   "version": "3.8.10"
  }
 },
 "nbformat": 4,
 "nbformat_minor": 5
}

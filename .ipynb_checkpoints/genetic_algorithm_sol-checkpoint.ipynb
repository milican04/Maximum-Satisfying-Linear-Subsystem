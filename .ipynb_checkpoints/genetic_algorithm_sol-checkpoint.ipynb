{
 "cells": [
  {
   "cell_type": "markdown",
   "id": "stylish-cattle",
   "metadata": {},
   "source": [
    "# MSLS problem solution via genetic algorithm "
   ]
  },
  {
   "cell_type": "code",
   "execution_count": 1,
   "id": "experimental-green",
   "metadata": {},
   "outputs": [],
   "source": [
    "import random\n",
    "import copy\n",
    "import numpy as np\n",
    "from scipy.optimize import linprog"
   ]
  },
  {
   "cell_type": "code",
   "execution_count": 2,
   "id": "legitimate-martial",
   "metadata": {},
   "outputs": [],
   "source": [
    "class Individual:\n",
    "    def __init__(self, numOfEqs, A, b):\n",
    "        self.numOfEqs = numOfEqs\n",
    "        self.code = [0 for i in range(numOfEqs)]\n",
    "        n = random.randint(1, numOfEqs)\n",
    "        chosen = random.sample(list(range(0, numOfEqs)), n)\n",
    "        for i in chosen:\n",
    "            self.code[i] = 1\n",
    "        self.calcFitness(A, b)\n",
    "            \n",
    "    def calcFitness(self, A, b):\n",
    "        Atmp, btmp = [], []\n",
    "        for i in range(self.numOfEqs):\n",
    "            if self.code[i] == 1:\n",
    "                Atmp.append(A[i])\n",
    "                btmp.append(b[i])\n",
    "                \n",
    "        if Atmp == []:\n",
    "            self.fitness, self.x = False, None\n",
    "            return\n",
    "        \n",
    "        c = np.zeros(shape=(len(Atmp[0]), 1))\n",
    "        sol = linprog(c = c, A_eq=Atmp, b_eq= btmp)\n",
    "\n",
    "        self.fitness, self.x = sol.success, sol.x\n",
    "    def inconsistentSystem(A):\n",
    "#         '''\n",
    "#         A is assumued to be the augmented matrix\n",
    "#         All rows of A, and all the columns but the last shall be the coefficient matrix\n",
    "#         '''\n",
    "        return np.linalg.matrix_rank(A) != np.linalg.matrix_rank(A[:,:-1])    \n",
    "#     def fixIndividual(self):\n",
    "#         if self.code == [0 for i in range(len(self.code))]:\n",
    "#             ran = random.randint(0, len(self.code)-1)\n",
    "#             self.code[ran] = 1\n",
    "            \n",
    "    def __eq__(self, other):\n",
    "        if self.fitness == other.fitness and sum(self.code) == sum(other.code):\n",
    "            return True\n",
    "        return False\n",
    "    \n",
    "    def __gt__(self, other):\n",
    "        if (self.fitness == True and other.fitness == False) or (self.fitness == True and other.fitness == True and sum(self.code) > sum(other.code)) or (self.fitness == False and other.fitness == False and sum(self.code) > sum(self.code)):\n",
    "                return True\n",
    "        return False\n",
    "    \n",
    "    def __lt__(self, other):\n",
    "        if not self.__gt__(other) and not self.__eq__(other):\n",
    "            return True\n",
    "        return False\n",
    "    "
   ]
  },
  {
   "cell_type": "code",
   "execution_count": 3,
   "id": "matched-event",
   "metadata": {},
   "outputs": [],
   "source": [
    "def readFile(filename):\n",
    "    if filename.endswith('.txt'):\n",
    "        with open(filename, 'r') as f:\n",
    "            A, b = [], []\n",
    "            for line in f:\n",
    "                eq = []\n",
    "                for num in line.split():\n",
    "                    eq.append(int(num))\n",
    "                A.append(eq[:-1])\n",
    "                b.append(eq[-1])\n",
    "    else:\n",
    "        raise Exception(\"We need .txt file :)\")\n",
    "    return A, b"
   ]
  },
  {
   "cell_type": "code",
   "execution_count": 4,
   "id": "laden-husband",
   "metadata": {},
   "outputs": [],
   "source": [
    "# A, b = readFile('tests/simple_test1.txt')\n",
    "# n = len(b)\n",
    "# ind1 = Individual(n, A, b)\n",
    "# print(ind1.code, \" \", ind1.fitness)\n",
    "# ind2 = Individual(n, A, b)\n",
    "# print(ind2.code, \" \", ind2.fitness)\n",
    "\n",
    "# ind1 > ind2"
   ]
  },
  {
   "cell_type": "code",
   "execution_count": 5,
   "id": "hollywood-military",
   "metadata": {},
   "outputs": [],
   "source": [
    "def selection(population, tournament_size, forbidden):\n",
    "    allowed = list(set(range(len(population))).difference({forbidden}))\n",
    "    chosen = random.sample(allowed, tournament_size)\n",
    "    max_fitness = float('-inf')\n",
    "    best_idx = -1\n",
    "    for i in chosen:\n",
    "        if population[i].fitness > max_fitness:\n",
    "            max_fitness = population[i].fitness\n",
    "            best_idx = i\n",
    "    return best_idx"
   ]
  },
  {
   "cell_type": "code",
   "execution_count": 6,
   "id": "cleared-parks",
   "metadata": {},
   "outputs": [],
   "source": [
    "def mutation(child, mutation_prob):\n",
    "    for i in range(len(child.code)):\n",
    "        if random.random() < mutation_prob:\n",
    "            child.code[i] = child.code[i] ^ 1"
   ]
  },
  {
   "cell_type": "code",
   "execution_count": 7,
   "id": "outdoor-amino",
   "metadata": {},
   "outputs": [],
   "source": [
    "def crossover(parent1, parent2, child1, child2):\n",
    "    pos = random.randrange(1, len(parent1.code))\n",
    "    for i in range(len(parent1.code)):\n",
    "        if i%2 == 1:\n",
    "            child1.code[i] = parent1.code[i]\n",
    "#             child2.code[i] = parent2.code[i]\n",
    "        else:\n",
    "            child1.code[i] = parent2.code[i]\n",
    "#             child2.code[i] = parent1.code[i]\n",
    "   \n",
    "    child2.code[:pos] = parent2.code[:pos]\n",
    "    child2.code[pos:] = parent1.code[pos:]"
   ]
  },
  {
   "cell_type": "code",
   "execution_count": 8,
   "id": "metallic-fishing",
   "metadata": {},
   "outputs": [],
   "source": [
    "def ga(pop_size, num_iters, tournament_size, mutation_prob, use_elitism, elitism_size, filePath):\n",
    "    if use_elitism and (pop_size - elitism_size) % 2 == 1:\n",
    "        elitism_size += 1\n",
    "  \n",
    "    A, b = readFile(filePath)\n",
    "    n = len(b)\n",
    "    \n",
    "    population = [Individual(n, A, b) for _ in range(pop_size)]\n",
    "    new_population = [Individual(n, A, b) for _ in range(pop_size)]\n",
    "    best_ever = None\n",
    "    for _ in range(num_iters):\n",
    "        if use_elitism:\n",
    "#             print(\"BEFORE:\")\n",
    "#             for i in range(len(population)):\n",
    "#                 print(population[i].code, \" \", population[i].fitness)\n",
    "                \n",
    "            population.sort(reverse=True)\n",
    "            \n",
    "#             print(\"AFTER:\")\n",
    "#             for i in range(len(population)):\n",
    "#                 print(population[i].code, \" \", population[i].fitness)\n",
    "                \n",
    "            new_population[:elitism_size] = population[:elitism_size]\n",
    "        best_ever = None   \n",
    "        for i in range(elitism_size, pop_size, 2):\n",
    "            parent1_idx = selection(population, tournament_size, None)\n",
    "            parent2_idx = selection(population, tournament_size, parent1_idx)\n",
    "            \n",
    "            crossover(population[parent1_idx],\n",
    "                      population[parent2_idx],\n",
    "                      new_population[i],\n",
    "                      new_population[i+1])\n",
    "            mutation(new_population[i], mutation_prob)\n",
    "            mutation(new_population[i+1], mutation_prob)\n",
    "            \n",
    "            new_population[i].calcFitness(A, b)\n",
    "            new_population[i+1].calcFitness(A, b)\n",
    "        \n",
    "        population[:] = new_population[:]\n",
    "    \n",
    "    best_individual = max(population, key=lambda x: x.fitness)\n",
    "    print(\"Number of satisfied eq is: \", sum(best_individual.code))\n",
    "    print(best_individual.fitness)\n",
    "    print(best_individual.x)"
   ]
  },
  {
   "cell_type": "code",
   "execution_count": 9,
   "id": "exotic-region",
   "metadata": {
    "scrolled": false
   },
   "outputs": [
    {
     "name": "stderr",
     "output_type": "stream",
     "text": [
      "<ipython-input-2-bd583c9e9c7a>:23: OptimizeWarning: A_eq does not appear to be of full row rank. To improve performance, check the problem formulation for redundant equality constraints.\n",
      "  sol = linprog(c = c, A_eq=Atmp, b_eq= btmp)\n"
     ]
    },
    {
     "name": "stdout",
     "output_type": "stream",
     "text": [
      "[0, 1, 1, 0]\n",
      "True\n",
      "[0.18215481 0.04511792 0.92298127]\n"
     ]
    }
   ],
   "source": [
    "ga(100, 100, 10, 0.05, True, 19, \"tests/simple_test1.txt\")"
   ]
  },
  {
   "cell_type": "code",
   "execution_count": 10,
   "id": "outdoor-magazine",
   "metadata": {},
   "outputs": [
    {
     "name": "stdout",
     "output_type": "stream",
     "text": [
      "[0, 1, 1, 0, 1, 1, 0, 1, 1, 1, 0, 1, 0, 1, 0, 1, 1, 0, 1, 1, 0, 1, 0, 1, 1, 1, 0, 0, 0, 0, 1, 0, 0, 1, 0, 0, 0, 0, 0, 0, 0, 0, 0, 1, 1, 1, 1, 1, 0, 0]\n",
      "True\n",
      "[ 0.92877936  0.97664593  9.1456663   7.77015712  5.78823196  2.29268014\n",
      "  0.82165297  4.59226737  0.56535241  0.3888463   0.84739692  1.36937128\n",
      "  1.06807298  6.14778001  1.70986971  4.24761821  1.00521909  2.45520177\n",
      "  1.14299545  1.26657499  4.37592679  3.31970093  1.0428385   5.18686443\n",
      "  2.10931245  3.2968191   5.65392731  0.57086406  1.71794461  1.00517805\n",
      "  5.5049162   4.49481111  6.7777932  10.49462404  3.10170812  1.79140936\n",
      "  1.22022904  4.70482616 10.24970573  4.72816716  7.47259145  6.83311305\n",
      "  1.14262227  7.30079487  2.28802878  1.26531549  0.73350253  2.11574191\n",
      "  1.23639742  0.75426231]\n"
     ]
    }
   ],
   "source": [
    "ga(100, 100, 10, 0.05, True, 19, \"tests/test1.txt\")"
   ]
  },
  {
   "cell_type": "code",
   "execution_count": null,
   "id": "separate-paradise",
   "metadata": {},
   "outputs": [],
   "source": []
  },
  {
   "cell_type": "code",
   "execution_count": null,
   "id": "neural-aircraft",
   "metadata": {},
   "outputs": [],
   "source": []
  },
  {
   "cell_type": "code",
   "execution_count": null,
   "id": "underlying-peoples",
   "metadata": {},
   "outputs": [],
   "source": []
  }
 ],
 "metadata": {
  "kernelspec": {
   "display_name": "Python 3",
   "language": "python",
   "name": "python3"
  },
  "language_info": {
   "codemirror_mode": {
    "name": "ipython",
    "version": 3
   },
   "file_extension": ".py",
   "mimetype": "text/x-python",
   "name": "python",
   "nbconvert_exporter": "python",
   "pygments_lexer": "ipython3",
   "version": "3.8.10"
  }
 },
 "nbformat": 4,
 "nbformat_minor": 5
}

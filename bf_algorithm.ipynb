{
 "cells": [
  {
   "cell_type": "code",
   "execution_count": 37,
   "id": "mineral-immune",
   "metadata": {},
   "outputs": [],
   "source": [
    "import numpy as np\n",
    "from numpy.linalg import inv, det\n",
    "from itertools import combinations"
   ]
  },
  {
   "cell_type": "code",
   "execution_count": 73,
   "id": "macro-documentation",
   "metadata": {},
   "outputs": [],
   "source": [
    "def MSLS(A, b):\n",
    "    m = len(A)    #number of eq\n",
    "    n = len(A[0]) #number of vars\n",
    "    \n",
    "    print(\"m: \", m, \" n: \", n)\n",
    "    \n",
    "    final_sol = None\n",
    "    \n",
    "    for com_n in range(n, m+1):\n",
    "        \n",
    "        print(\"Trying to solve system with dimension \", com_n, '...')\n",
    "\n",
    "        combs = combinations([i for i in range(m)], com_n)\n",
    "        \n",
    "\n",
    "        solutions = []\n",
    "        is_sat = False\n",
    "        \n",
    "        for combination in list(combs):\n",
    "            tmp_a = []\n",
    "            tmp_b = []\n",
    "            for i in range(n):\n",
    "                tmp_a.append(A[combination[i]])\n",
    "                tmp_b.append(b[combination[i]])\n",
    "\n",
    "            if det(tmp_a) != 0:\n",
    "                is_sat = True\n",
    "                sol = np.linalg.solve(tmp_a, tmp_b)\n",
    "                print(\"Solution for eqs \", combination, \" is \", sol)\n",
    "#                 break\n",
    "\n",
    "        if not is_sat:\n",
    "            break\n",
    "        else:\n",
    "            final_sol = sol\n",
    "            \n",
    "    return final_sol"
   ]
  },
  {
   "cell_type": "code",
   "execution_count": 74,
   "id": "cleared-event",
   "metadata": {},
   "outputs": [
    {
     "name": "stdout",
     "output_type": "stream",
     "text": [
      "m:  5  n:  3\n",
      "Trying to solve system with dimension  3 ...\n",
      "Solution for eqs  (0, 2, 3)  is  [0. 1. 3.]\n",
      "Solution for eqs  (0, 2, 4)  is  [0. 1. 3.]\n",
      "Solution for eqs  (0, 3, 4)  is  [0. 1. 3.]\n",
      "Solution for eqs  (1, 2, 3)  is  [0.16666667 1.16666667 3.16666667]\n",
      "Solution for eqs  (1, 2, 4)  is  [-0.33333333  0.66666667  3.66666667]\n",
      "Solution for eqs  (1, 3, 4)  is  [-0.66666667  1.33333333  3.33333333]\n",
      "Solution for eqs  (2, 3, 4)  is  [-0.  1.  3.]\n",
      "Trying to solve system with dimension  4 ...\n",
      "Solution for eqs  (0, 2, 3, 4)  is  [0. 1. 3.]\n",
      "Solution for eqs  (1, 2, 3, 4)  is  [0.16666667 1.16666667 3.16666667]\n",
      "Trying to solve system with dimension  5 ...\n"
     ]
    },
    {
     "data": {
      "text/plain": [
       "array([0.16666667, 1.16666667, 3.16666667])"
      ]
     },
     "execution_count": 74,
     "metadata": {},
     "output_type": "execute_result"
    }
   ],
   "source": [
    "A = [[1, 2, 3], [1, 2, 3], [-1, 1, 0], [0, -1, 1], [1, 1, 1]]\n",
    "b = [11,12, 1, 2, 4]\n",
    "MSLS(A, b)"
   ]
  },
  {
   "cell_type": "code",
   "execution_count": 75,
   "id": "veterinary-ontario",
   "metadata": {},
   "outputs": [
    {
     "name": "stdout",
     "output_type": "stream",
     "text": [
      "m:  4  n:  3\n",
      "Trying to solve system with dimension  3 ...\n",
      "Solution for eqs  (0, 2, 3)  is  [0. 1. 3.]\n",
      "Solution for eqs  (1, 2, 3)  is  [0. 1. 3.]\n",
      "Trying to solve system with dimension  4 ...\n"
     ]
    },
    {
     "data": {
      "text/plain": [
       "array([0., 1., 3.])"
      ]
     },
     "execution_count": 75,
     "metadata": {},
     "output_type": "execute_result"
    }
   ],
   "source": [
    "A = [[1, 2, 3], [1, 2, 3], [-1, 1, 0], [0, -1, 1]]\n",
    "b = [11, 11, 1, 2]\n",
    "MSLS(A, b)"
   ]
  },
  {
   "cell_type": "code",
   "execution_count": null,
   "id": "subtle-armenia",
   "metadata": {},
   "outputs": [],
   "source": []
  },
  {
   "cell_type": "code",
   "execution_count": 71,
   "id": "spare-reset",
   "metadata": {},
   "outputs": [],
   "source": []
  },
  {
   "cell_type": "code",
   "execution_count": 72,
   "id": "concrete-pressure",
   "metadata": {},
   "outputs": [
    {
     "name": "stdout",
     "output_type": "stream",
     "text": [
      "(1, 2, 3, 4, 5)\n"
     ]
    }
   ],
   "source": []
  },
  {
   "cell_type": "code",
   "execution_count": null,
   "id": "spectacular-sunset",
   "metadata": {},
   "outputs": [],
   "source": []
  }
 ],
 "metadata": {
  "kernelspec": {
   "display_name": "Python 3",
   "language": "python",
   "name": "python3"
  },
  "language_info": {
   "codemirror_mode": {
    "name": "ipython",
    "version": 3
   },
   "file_extension": ".py",
   "mimetype": "text/x-python",
   "name": "python",
   "nbconvert_exporter": "python",
   "pygments_lexer": "ipython3",
   "version": "3.8.10"
  }
 },
 "nbformat": 4,
 "nbformat_minor": 5
}
